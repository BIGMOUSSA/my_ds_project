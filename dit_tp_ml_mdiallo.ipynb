{
  "nbformat": 4,
  "nbformat_minor": 0,
  "metadata": {
    "colab": {
      "provenance": [],
      "authorship_tag": "ABX9TyMz+un0+lsI2RcdkfH4ahys",
      "include_colab_link": true
    },
    "kernelspec": {
      "name": "python3",
      "display_name": "Python 3"
    },
    "language_info": {
      "name": "python"
    },
    "accelerator": "GPU"
  },
  "cells": [
    {
      "cell_type": "markdown",
      "metadata": {
        "id": "view-in-github",
        "colab_type": "text"
      },
      "source": [
        "<a href=\"https://colab.research.google.com/github/BIGMOUSSA/my_ds_project/blob/main/dit_tp_ml_mdiallo.ipynb\" target=\"_parent\"><img src=\"https://colab.research.google.com/assets/colab-badge.svg\" alt=\"Open In Colab\"/></a>"
      ]
    },
    {
      "cell_type": "code",
      "execution_count": null,
      "metadata": {
        "id": "atDd0j_TxtOK"
      },
      "outputs": [],
      "source": [
        "import pandas as pd\n",
        "import numpy as np\n",
        "from sklearn.model_selection import train_test_split\n",
        "from sklearn.preprocessing import StandardScaler\n",
        "from sklearn.ensemble import RandomForestClassifier\n",
        "from sklearn.neighbors import KNeighborsClassifier\n",
        "from sklearn.linear_model import LogisticRegression\n",
        "from sklearn.svm import SVC\n",
        "from sklearn.metrics import accuracy_score\n",
        "import matplotlib.pyplot as plt"
      ]
    },
    {
      "cell_type": "code",
      "source": [
        "from google.colab import drive\n",
        "drive.mount('/content/drive')"
      ],
      "metadata": {
        "colab": {
          "base_uri": "https://localhost:8080/"
        },
        "id": "dgpMCQgUyTIM",
        "outputId": "ca477722-2014-4da4-c051-8f27773b39ed"
      },
      "execution_count": null,
      "outputs": [
        {
          "output_type": "stream",
          "name": "stdout",
          "text": [
            "Mounted at /content/drive\n"
          ]
        }
      ]
    },
    {
      "cell_type": "code",
      "source": [
        "# loading data\n",
        "data = pd.read_csv(\"/content/drive/MyDrive/Telco-Customer-Churn.csv\",index_col=0)\n",
        "data"
      ],
      "metadata": {
        "colab": {
          "base_uri": "https://localhost:8080/",
          "height": 692
        },
        "id": "ICgEB3Uryd3O",
        "outputId": "a17d150c-e7b2-4a44-deea-83c930c2958d"
      },
      "execution_count": null,
      "outputs": [
        {
          "output_type": "execute_result",
          "data": {
            "text/plain": [
              "            gender  SeniorCitizen Partner Dependents  tenure PhoneService  \\\n",
              "customerID                                                                  \n",
              "7590-VHVEG  Female              0     Yes         No       1           No   \n",
              "5575-GNVDE    Male              0      No         No      34          Yes   \n",
              "3668-QPYBK    Male              0      No         No       2          Yes   \n",
              "7795-CFOCW    Male              0      No         No      45           No   \n",
              "9237-HQITU  Female              0      No         No       2          Yes   \n",
              "...            ...            ...     ...        ...     ...          ...   \n",
              "6840-RESVB    Male              0     Yes        Yes      24          Yes   \n",
              "2234-XADUH  Female              0     Yes        Yes      72          Yes   \n",
              "4801-JZAZL  Female              0     Yes        Yes      11           No   \n",
              "8361-LTMKD    Male              1     Yes         No       4          Yes   \n",
              "3186-AJIEK    Male              0      No         No      66          Yes   \n",
              "\n",
              "               MultipleLines InternetService OnlineSecurity OnlineBackup  \\\n",
              "customerID                                                                 \n",
              "7590-VHVEG  No phone service             DSL             No          Yes   \n",
              "5575-GNVDE                No             DSL            Yes           No   \n",
              "3668-QPYBK                No             DSL            Yes          Yes   \n",
              "7795-CFOCW  No phone service             DSL            Yes           No   \n",
              "9237-HQITU                No     Fiber optic             No           No   \n",
              "...                      ...             ...            ...          ...   \n",
              "6840-RESVB               Yes             DSL            Yes           No   \n",
              "2234-XADUH               Yes     Fiber optic             No          Yes   \n",
              "4801-JZAZL  No phone service             DSL            Yes           No   \n",
              "8361-LTMKD               Yes     Fiber optic             No           No   \n",
              "3186-AJIEK                No     Fiber optic            Yes           No   \n",
              "\n",
              "           DeviceProtection TechSupport StreamingTV StreamingMovies  \\\n",
              "customerID                                                            \n",
              "7590-VHVEG               No          No          No              No   \n",
              "5575-GNVDE              Yes          No          No              No   \n",
              "3668-QPYBK               No          No          No              No   \n",
              "7795-CFOCW              Yes         Yes          No              No   \n",
              "9237-HQITU               No          No          No              No   \n",
              "...                     ...         ...         ...             ...   \n",
              "6840-RESVB              Yes         Yes         Yes             Yes   \n",
              "2234-XADUH              Yes          No         Yes             Yes   \n",
              "4801-JZAZL               No          No          No              No   \n",
              "8361-LTMKD               No          No          No              No   \n",
              "3186-AJIEK              Yes         Yes         Yes             Yes   \n",
              "\n",
              "                  Contract PaperlessBilling              PaymentMethod  \\\n",
              "customerID                                                               \n",
              "7590-VHVEG  Month-to-month              Yes           Electronic check   \n",
              "5575-GNVDE        One year               No               Mailed check   \n",
              "3668-QPYBK  Month-to-month              Yes               Mailed check   \n",
              "7795-CFOCW        One year               No  Bank transfer (automatic)   \n",
              "9237-HQITU  Month-to-month              Yes           Electronic check   \n",
              "...                    ...              ...                        ...   \n",
              "6840-RESVB        One year              Yes               Mailed check   \n",
              "2234-XADUH        One year              Yes    Credit card (automatic)   \n",
              "4801-JZAZL  Month-to-month              Yes           Electronic check   \n",
              "8361-LTMKD  Month-to-month              Yes               Mailed check   \n",
              "3186-AJIEK        Two year              Yes  Bank transfer (automatic)   \n",
              "\n",
              "            MonthlyCharges TotalCharges Churn  \n",
              "customerID                                     \n",
              "7590-VHVEG           29.85        29.85    No  \n",
              "5575-GNVDE           56.95       1889.5    No  \n",
              "3668-QPYBK           53.85       108.15   Yes  \n",
              "7795-CFOCW           42.30      1840.75    No  \n",
              "9237-HQITU           70.70       151.65   Yes  \n",
              "...                    ...          ...   ...  \n",
              "6840-RESVB           84.80       1990.5    No  \n",
              "2234-XADUH          103.20       7362.9    No  \n",
              "4801-JZAZL           29.60       346.45    No  \n",
              "8361-LTMKD           74.40        306.6   Yes  \n",
              "3186-AJIEK          105.65       6844.5    No  \n",
              "\n",
              "[7043 rows x 20 columns]"
            ],
            "text/html": [
              "\n",
              "  <div id=\"df-44cb2d80-5e17-49c0-9320-03c6425dd248\">\n",
              "    <div class=\"colab-df-container\">\n",
              "      <div>\n",
              "<style scoped>\n",
              "    .dataframe tbody tr th:only-of-type {\n",
              "        vertical-align: middle;\n",
              "    }\n",
              "\n",
              "    .dataframe tbody tr th {\n",
              "        vertical-align: top;\n",
              "    }\n",
              "\n",
              "    .dataframe thead th {\n",
              "        text-align: right;\n",
              "    }\n",
              "</style>\n",
              "<table border=\"1\" class=\"dataframe\">\n",
              "  <thead>\n",
              "    <tr style=\"text-align: right;\">\n",
              "      <th></th>\n",
              "      <th>gender</th>\n",
              "      <th>SeniorCitizen</th>\n",
              "      <th>Partner</th>\n",
              "      <th>Dependents</th>\n",
              "      <th>tenure</th>\n",
              "      <th>PhoneService</th>\n",
              "      <th>MultipleLines</th>\n",
              "      <th>InternetService</th>\n",
              "      <th>OnlineSecurity</th>\n",
              "      <th>OnlineBackup</th>\n",
              "      <th>DeviceProtection</th>\n",
              "      <th>TechSupport</th>\n",
              "      <th>StreamingTV</th>\n",
              "      <th>StreamingMovies</th>\n",
              "      <th>Contract</th>\n",
              "      <th>PaperlessBilling</th>\n",
              "      <th>PaymentMethod</th>\n",
              "      <th>MonthlyCharges</th>\n",
              "      <th>TotalCharges</th>\n",
              "      <th>Churn</th>\n",
              "    </tr>\n",
              "    <tr>\n",
              "      <th>customerID</th>\n",
              "      <th></th>\n",
              "      <th></th>\n",
              "      <th></th>\n",
              "      <th></th>\n",
              "      <th></th>\n",
              "      <th></th>\n",
              "      <th></th>\n",
              "      <th></th>\n",
              "      <th></th>\n",
              "      <th></th>\n",
              "      <th></th>\n",
              "      <th></th>\n",
              "      <th></th>\n",
              "      <th></th>\n",
              "      <th></th>\n",
              "      <th></th>\n",
              "      <th></th>\n",
              "      <th></th>\n",
              "      <th></th>\n",
              "      <th></th>\n",
              "    </tr>\n",
              "  </thead>\n",
              "  <tbody>\n",
              "    <tr>\n",
              "      <th>7590-VHVEG</th>\n",
              "      <td>Female</td>\n",
              "      <td>0</td>\n",
              "      <td>Yes</td>\n",
              "      <td>No</td>\n",
              "      <td>1</td>\n",
              "      <td>No</td>\n",
              "      <td>No phone service</td>\n",
              "      <td>DSL</td>\n",
              "      <td>No</td>\n",
              "      <td>Yes</td>\n",
              "      <td>No</td>\n",
              "      <td>No</td>\n",
              "      <td>No</td>\n",
              "      <td>No</td>\n",
              "      <td>Month-to-month</td>\n",
              "      <td>Yes</td>\n",
              "      <td>Electronic check</td>\n",
              "      <td>29.85</td>\n",
              "      <td>29.85</td>\n",
              "      <td>No</td>\n",
              "    </tr>\n",
              "    <tr>\n",
              "      <th>5575-GNVDE</th>\n",
              "      <td>Male</td>\n",
              "      <td>0</td>\n",
              "      <td>No</td>\n",
              "      <td>No</td>\n",
              "      <td>34</td>\n",
              "      <td>Yes</td>\n",
              "      <td>No</td>\n",
              "      <td>DSL</td>\n",
              "      <td>Yes</td>\n",
              "      <td>No</td>\n",
              "      <td>Yes</td>\n",
              "      <td>No</td>\n",
              "      <td>No</td>\n",
              "      <td>No</td>\n",
              "      <td>One year</td>\n",
              "      <td>No</td>\n",
              "      <td>Mailed check</td>\n",
              "      <td>56.95</td>\n",
              "      <td>1889.5</td>\n",
              "      <td>No</td>\n",
              "    </tr>\n",
              "    <tr>\n",
              "      <th>3668-QPYBK</th>\n",
              "      <td>Male</td>\n",
              "      <td>0</td>\n",
              "      <td>No</td>\n",
              "      <td>No</td>\n",
              "      <td>2</td>\n",
              "      <td>Yes</td>\n",
              "      <td>No</td>\n",
              "      <td>DSL</td>\n",
              "      <td>Yes</td>\n",
              "      <td>Yes</td>\n",
              "      <td>No</td>\n",
              "      <td>No</td>\n",
              "      <td>No</td>\n",
              "      <td>No</td>\n",
              "      <td>Month-to-month</td>\n",
              "      <td>Yes</td>\n",
              "      <td>Mailed check</td>\n",
              "      <td>53.85</td>\n",
              "      <td>108.15</td>\n",
              "      <td>Yes</td>\n",
              "    </tr>\n",
              "    <tr>\n",
              "      <th>7795-CFOCW</th>\n",
              "      <td>Male</td>\n",
              "      <td>0</td>\n",
              "      <td>No</td>\n",
              "      <td>No</td>\n",
              "      <td>45</td>\n",
              "      <td>No</td>\n",
              "      <td>No phone service</td>\n",
              "      <td>DSL</td>\n",
              "      <td>Yes</td>\n",
              "      <td>No</td>\n",
              "      <td>Yes</td>\n",
              "      <td>Yes</td>\n",
              "      <td>No</td>\n",
              "      <td>No</td>\n",
              "      <td>One year</td>\n",
              "      <td>No</td>\n",
              "      <td>Bank transfer (automatic)</td>\n",
              "      <td>42.30</td>\n",
              "      <td>1840.75</td>\n",
              "      <td>No</td>\n",
              "    </tr>\n",
              "    <tr>\n",
              "      <th>9237-HQITU</th>\n",
              "      <td>Female</td>\n",
              "      <td>0</td>\n",
              "      <td>No</td>\n",
              "      <td>No</td>\n",
              "      <td>2</td>\n",
              "      <td>Yes</td>\n",
              "      <td>No</td>\n",
              "      <td>Fiber optic</td>\n",
              "      <td>No</td>\n",
              "      <td>No</td>\n",
              "      <td>No</td>\n",
              "      <td>No</td>\n",
              "      <td>No</td>\n",
              "      <td>No</td>\n",
              "      <td>Month-to-month</td>\n",
              "      <td>Yes</td>\n",
              "      <td>Electronic check</td>\n",
              "      <td>70.70</td>\n",
              "      <td>151.65</td>\n",
              "      <td>Yes</td>\n",
              "    </tr>\n",
              "    <tr>\n",
              "      <th>...</th>\n",
              "      <td>...</td>\n",
              "      <td>...</td>\n",
              "      <td>...</td>\n",
              "      <td>...</td>\n",
              "      <td>...</td>\n",
              "      <td>...</td>\n",
              "      <td>...</td>\n",
              "      <td>...</td>\n",
              "      <td>...</td>\n",
              "      <td>...</td>\n",
              "      <td>...</td>\n",
              "      <td>...</td>\n",
              "      <td>...</td>\n",
              "      <td>...</td>\n",
              "      <td>...</td>\n",
              "      <td>...</td>\n",
              "      <td>...</td>\n",
              "      <td>...</td>\n",
              "      <td>...</td>\n",
              "      <td>...</td>\n",
              "    </tr>\n",
              "    <tr>\n",
              "      <th>6840-RESVB</th>\n",
              "      <td>Male</td>\n",
              "      <td>0</td>\n",
              "      <td>Yes</td>\n",
              "      <td>Yes</td>\n",
              "      <td>24</td>\n",
              "      <td>Yes</td>\n",
              "      <td>Yes</td>\n",
              "      <td>DSL</td>\n",
              "      <td>Yes</td>\n",
              "      <td>No</td>\n",
              "      <td>Yes</td>\n",
              "      <td>Yes</td>\n",
              "      <td>Yes</td>\n",
              "      <td>Yes</td>\n",
              "      <td>One year</td>\n",
              "      <td>Yes</td>\n",
              "      <td>Mailed check</td>\n",
              "      <td>84.80</td>\n",
              "      <td>1990.5</td>\n",
              "      <td>No</td>\n",
              "    </tr>\n",
              "    <tr>\n",
              "      <th>2234-XADUH</th>\n",
              "      <td>Female</td>\n",
              "      <td>0</td>\n",
              "      <td>Yes</td>\n",
              "      <td>Yes</td>\n",
              "      <td>72</td>\n",
              "      <td>Yes</td>\n",
              "      <td>Yes</td>\n",
              "      <td>Fiber optic</td>\n",
              "      <td>No</td>\n",
              "      <td>Yes</td>\n",
              "      <td>Yes</td>\n",
              "      <td>No</td>\n",
              "      <td>Yes</td>\n",
              "      <td>Yes</td>\n",
              "      <td>One year</td>\n",
              "      <td>Yes</td>\n",
              "      <td>Credit card (automatic)</td>\n",
              "      <td>103.20</td>\n",
              "      <td>7362.9</td>\n",
              "      <td>No</td>\n",
              "    </tr>\n",
              "    <tr>\n",
              "      <th>4801-JZAZL</th>\n",
              "      <td>Female</td>\n",
              "      <td>0</td>\n",
              "      <td>Yes</td>\n",
              "      <td>Yes</td>\n",
              "      <td>11</td>\n",
              "      <td>No</td>\n",
              "      <td>No phone service</td>\n",
              "      <td>DSL</td>\n",
              "      <td>Yes</td>\n",
              "      <td>No</td>\n",
              "      <td>No</td>\n",
              "      <td>No</td>\n",
              "      <td>No</td>\n",
              "      <td>No</td>\n",
              "      <td>Month-to-month</td>\n",
              "      <td>Yes</td>\n",
              "      <td>Electronic check</td>\n",
              "      <td>29.60</td>\n",
              "      <td>346.45</td>\n",
              "      <td>No</td>\n",
              "    </tr>\n",
              "    <tr>\n",
              "      <th>8361-LTMKD</th>\n",
              "      <td>Male</td>\n",
              "      <td>1</td>\n",
              "      <td>Yes</td>\n",
              "      <td>No</td>\n",
              "      <td>4</td>\n",
              "      <td>Yes</td>\n",
              "      <td>Yes</td>\n",
              "      <td>Fiber optic</td>\n",
              "      <td>No</td>\n",
              "      <td>No</td>\n",
              "      <td>No</td>\n",
              "      <td>No</td>\n",
              "      <td>No</td>\n",
              "      <td>No</td>\n",
              "      <td>Month-to-month</td>\n",
              "      <td>Yes</td>\n",
              "      <td>Mailed check</td>\n",
              "      <td>74.40</td>\n",
              "      <td>306.6</td>\n",
              "      <td>Yes</td>\n",
              "    </tr>\n",
              "    <tr>\n",
              "      <th>3186-AJIEK</th>\n",
              "      <td>Male</td>\n",
              "      <td>0</td>\n",
              "      <td>No</td>\n",
              "      <td>No</td>\n",
              "      <td>66</td>\n",
              "      <td>Yes</td>\n",
              "      <td>No</td>\n",
              "      <td>Fiber optic</td>\n",
              "      <td>Yes</td>\n",
              "      <td>No</td>\n",
              "      <td>Yes</td>\n",
              "      <td>Yes</td>\n",
              "      <td>Yes</td>\n",
              "      <td>Yes</td>\n",
              "      <td>Two year</td>\n",
              "      <td>Yes</td>\n",
              "      <td>Bank transfer (automatic)</td>\n",
              "      <td>105.65</td>\n",
              "      <td>6844.5</td>\n",
              "      <td>No</td>\n",
              "    </tr>\n",
              "  </tbody>\n",
              "</table>\n",
              "<p>7043 rows × 20 columns</p>\n",
              "</div>\n",
              "      <button class=\"colab-df-convert\" onclick=\"convertToInteractive('df-44cb2d80-5e17-49c0-9320-03c6425dd248')\"\n",
              "              title=\"Convert this dataframe to an interactive table.\"\n",
              "              style=\"display:none;\">\n",
              "        \n",
              "  <svg xmlns=\"http://www.w3.org/2000/svg\" height=\"24px\"viewBox=\"0 0 24 24\"\n",
              "       width=\"24px\">\n",
              "    <path d=\"M0 0h24v24H0V0z\" fill=\"none\"/>\n",
              "    <path d=\"M18.56 5.44l.94 2.06.94-2.06 2.06-.94-2.06-.94-.94-2.06-.94 2.06-2.06.94zm-11 1L8.5 8.5l.94-2.06 2.06-.94-2.06-.94L8.5 2.5l-.94 2.06-2.06.94zm10 10l.94 2.06.94-2.06 2.06-.94-2.06-.94-.94-2.06-.94 2.06-2.06.94z\"/><path d=\"M17.41 7.96l-1.37-1.37c-.4-.4-.92-.59-1.43-.59-.52 0-1.04.2-1.43.59L10.3 9.45l-7.72 7.72c-.78.78-.78 2.05 0 2.83L4 21.41c.39.39.9.59 1.41.59.51 0 1.02-.2 1.41-.59l7.78-7.78 2.81-2.81c.8-.78.8-2.07 0-2.86zM5.41 20L4 18.59l7.72-7.72 1.47 1.35L5.41 20z\"/>\n",
              "  </svg>\n",
              "      </button>\n",
              "      \n",
              "  <style>\n",
              "    .colab-df-container {\n",
              "      display:flex;\n",
              "      flex-wrap:wrap;\n",
              "      gap: 12px;\n",
              "    }\n",
              "\n",
              "    .colab-df-convert {\n",
              "      background-color: #E8F0FE;\n",
              "      border: none;\n",
              "      border-radius: 50%;\n",
              "      cursor: pointer;\n",
              "      display: none;\n",
              "      fill: #1967D2;\n",
              "      height: 32px;\n",
              "      padding: 0 0 0 0;\n",
              "      width: 32px;\n",
              "    }\n",
              "\n",
              "    .colab-df-convert:hover {\n",
              "      background-color: #E2EBFA;\n",
              "      box-shadow: 0px 1px 2px rgba(60, 64, 67, 0.3), 0px 1px 3px 1px rgba(60, 64, 67, 0.15);\n",
              "      fill: #174EA6;\n",
              "    }\n",
              "\n",
              "    [theme=dark] .colab-df-convert {\n",
              "      background-color: #3B4455;\n",
              "      fill: #D2E3FC;\n",
              "    }\n",
              "\n",
              "    [theme=dark] .colab-df-convert:hover {\n",
              "      background-color: #434B5C;\n",
              "      box-shadow: 0px 1px 3px 1px rgba(0, 0, 0, 0.15);\n",
              "      filter: drop-shadow(0px 1px 2px rgba(0, 0, 0, 0.3));\n",
              "      fill: #FFFFFF;\n",
              "    }\n",
              "  </style>\n",
              "\n",
              "      <script>\n",
              "        const buttonEl =\n",
              "          document.querySelector('#df-44cb2d80-5e17-49c0-9320-03c6425dd248 button.colab-df-convert');\n",
              "        buttonEl.style.display =\n",
              "          google.colab.kernel.accessAllowed ? 'block' : 'none';\n",
              "\n",
              "        async function convertToInteractive(key) {\n",
              "          const element = document.querySelector('#df-44cb2d80-5e17-49c0-9320-03c6425dd248');\n",
              "          const dataTable =\n",
              "            await google.colab.kernel.invokeFunction('convertToInteractive',\n",
              "                                                     [key], {});\n",
              "          if (!dataTable) return;\n",
              "\n",
              "          const docLinkHtml = 'Like what you see? Visit the ' +\n",
              "            '<a target=\"_blank\" href=https://colab.research.google.com/notebooks/data_table.ipynb>data table notebook</a>'\n",
              "            + ' to learn more about interactive tables.';\n",
              "          element.innerHTML = '';\n",
              "          dataTable['output_type'] = 'display_data';\n",
              "          await google.colab.output.renderOutput(dataTable, element);\n",
              "          const docLink = document.createElement('div');\n",
              "          docLink.innerHTML = docLinkHtml;\n",
              "          element.appendChild(docLink);\n",
              "        }\n",
              "      </script>\n",
              "    </div>\n",
              "  </div>\n",
              "  "
            ]
          },
          "metadata": {},
          "execution_count": 3
        }
      ]
    },
    {
      "cell_type": "code",
      "source": [
        "# target \n",
        "target = data[\"Churn\"]\n",
        "target"
      ],
      "metadata": {
        "colab": {
          "base_uri": "https://localhost:8080/"
        },
        "id": "NBf7bs927-g3",
        "outputId": "8e8e0fff-6383-4dae-9bcd-378fdd06989e"
      },
      "execution_count": null,
      "outputs": [
        {
          "output_type": "execute_result",
          "data": {
            "text/plain": [
              "customerID\n",
              "7590-VHVEG     No\n",
              "5575-GNVDE     No\n",
              "3668-QPYBK    Yes\n",
              "7795-CFOCW     No\n",
              "9237-HQITU    Yes\n",
              "             ... \n",
              "6840-RESVB     No\n",
              "2234-XADUH     No\n",
              "4801-JZAZL     No\n",
              "8361-LTMKD    Yes\n",
              "3186-AJIEK     No\n",
              "Name: Churn, Length: 7043, dtype: object"
            ]
          },
          "metadata": {},
          "execution_count": 4
        }
      ]
    },
    {
      "cell_type": "code",
      "source": [
        "data = data.drop(columns=\"Churn\",axis=1)\n",
        "data"
      ],
      "metadata": {
        "colab": {
          "base_uri": "https://localhost:8080/",
          "height": 692
        },
        "id": "B95Zt-5R8KgP",
        "outputId": "6dedbdb0-b81e-4ade-c37b-73882a242f95"
      },
      "execution_count": null,
      "outputs": [
        {
          "output_type": "execute_result",
          "data": {
            "text/plain": [
              "            gender  SeniorCitizen Partner Dependents  tenure PhoneService  \\\n",
              "customerID                                                                  \n",
              "7590-VHVEG  Female              0     Yes         No       1           No   \n",
              "5575-GNVDE    Male              0      No         No      34          Yes   \n",
              "3668-QPYBK    Male              0      No         No       2          Yes   \n",
              "7795-CFOCW    Male              0      No         No      45           No   \n",
              "9237-HQITU  Female              0      No         No       2          Yes   \n",
              "...            ...            ...     ...        ...     ...          ...   \n",
              "6840-RESVB    Male              0     Yes        Yes      24          Yes   \n",
              "2234-XADUH  Female              0     Yes        Yes      72          Yes   \n",
              "4801-JZAZL  Female              0     Yes        Yes      11           No   \n",
              "8361-LTMKD    Male              1     Yes         No       4          Yes   \n",
              "3186-AJIEK    Male              0      No         No      66          Yes   \n",
              "\n",
              "               MultipleLines InternetService OnlineSecurity OnlineBackup  \\\n",
              "customerID                                                                 \n",
              "7590-VHVEG  No phone service             DSL             No          Yes   \n",
              "5575-GNVDE                No             DSL            Yes           No   \n",
              "3668-QPYBK                No             DSL            Yes          Yes   \n",
              "7795-CFOCW  No phone service             DSL            Yes           No   \n",
              "9237-HQITU                No     Fiber optic             No           No   \n",
              "...                      ...             ...            ...          ...   \n",
              "6840-RESVB               Yes             DSL            Yes           No   \n",
              "2234-XADUH               Yes     Fiber optic             No          Yes   \n",
              "4801-JZAZL  No phone service             DSL            Yes           No   \n",
              "8361-LTMKD               Yes     Fiber optic             No           No   \n",
              "3186-AJIEK                No     Fiber optic            Yes           No   \n",
              "\n",
              "           DeviceProtection TechSupport StreamingTV StreamingMovies  \\\n",
              "customerID                                                            \n",
              "7590-VHVEG               No          No          No              No   \n",
              "5575-GNVDE              Yes          No          No              No   \n",
              "3668-QPYBK               No          No          No              No   \n",
              "7795-CFOCW              Yes         Yes          No              No   \n",
              "9237-HQITU               No          No          No              No   \n",
              "...                     ...         ...         ...             ...   \n",
              "6840-RESVB              Yes         Yes         Yes             Yes   \n",
              "2234-XADUH              Yes          No         Yes             Yes   \n",
              "4801-JZAZL               No          No          No              No   \n",
              "8361-LTMKD               No          No          No              No   \n",
              "3186-AJIEK              Yes         Yes         Yes             Yes   \n",
              "\n",
              "                  Contract PaperlessBilling              PaymentMethod  \\\n",
              "customerID                                                               \n",
              "7590-VHVEG  Month-to-month              Yes           Electronic check   \n",
              "5575-GNVDE        One year               No               Mailed check   \n",
              "3668-QPYBK  Month-to-month              Yes               Mailed check   \n",
              "7795-CFOCW        One year               No  Bank transfer (automatic)   \n",
              "9237-HQITU  Month-to-month              Yes           Electronic check   \n",
              "...                    ...              ...                        ...   \n",
              "6840-RESVB        One year              Yes               Mailed check   \n",
              "2234-XADUH        One year              Yes    Credit card (automatic)   \n",
              "4801-JZAZL  Month-to-month              Yes           Electronic check   \n",
              "8361-LTMKD  Month-to-month              Yes               Mailed check   \n",
              "3186-AJIEK        Two year              Yes  Bank transfer (automatic)   \n",
              "\n",
              "            MonthlyCharges TotalCharges  \n",
              "customerID                               \n",
              "7590-VHVEG           29.85        29.85  \n",
              "5575-GNVDE           56.95       1889.5  \n",
              "3668-QPYBK           53.85       108.15  \n",
              "7795-CFOCW           42.30      1840.75  \n",
              "9237-HQITU           70.70       151.65  \n",
              "...                    ...          ...  \n",
              "6840-RESVB           84.80       1990.5  \n",
              "2234-XADUH          103.20       7362.9  \n",
              "4801-JZAZL           29.60       346.45  \n",
              "8361-LTMKD           74.40        306.6  \n",
              "3186-AJIEK          105.65       6844.5  \n",
              "\n",
              "[7043 rows x 19 columns]"
            ],
            "text/html": [
              "\n",
              "  <div id=\"df-918293ea-7110-43fc-8e69-ef89e1dc4f7e\">\n",
              "    <div class=\"colab-df-container\">\n",
              "      <div>\n",
              "<style scoped>\n",
              "    .dataframe tbody tr th:only-of-type {\n",
              "        vertical-align: middle;\n",
              "    }\n",
              "\n",
              "    .dataframe tbody tr th {\n",
              "        vertical-align: top;\n",
              "    }\n",
              "\n",
              "    .dataframe thead th {\n",
              "        text-align: right;\n",
              "    }\n",
              "</style>\n",
              "<table border=\"1\" class=\"dataframe\">\n",
              "  <thead>\n",
              "    <tr style=\"text-align: right;\">\n",
              "      <th></th>\n",
              "      <th>gender</th>\n",
              "      <th>SeniorCitizen</th>\n",
              "      <th>Partner</th>\n",
              "      <th>Dependents</th>\n",
              "      <th>tenure</th>\n",
              "      <th>PhoneService</th>\n",
              "      <th>MultipleLines</th>\n",
              "      <th>InternetService</th>\n",
              "      <th>OnlineSecurity</th>\n",
              "      <th>OnlineBackup</th>\n",
              "      <th>DeviceProtection</th>\n",
              "      <th>TechSupport</th>\n",
              "      <th>StreamingTV</th>\n",
              "      <th>StreamingMovies</th>\n",
              "      <th>Contract</th>\n",
              "      <th>PaperlessBilling</th>\n",
              "      <th>PaymentMethod</th>\n",
              "      <th>MonthlyCharges</th>\n",
              "      <th>TotalCharges</th>\n",
              "    </tr>\n",
              "    <tr>\n",
              "      <th>customerID</th>\n",
              "      <th></th>\n",
              "      <th></th>\n",
              "      <th></th>\n",
              "      <th></th>\n",
              "      <th></th>\n",
              "      <th></th>\n",
              "      <th></th>\n",
              "      <th></th>\n",
              "      <th></th>\n",
              "      <th></th>\n",
              "      <th></th>\n",
              "      <th></th>\n",
              "      <th></th>\n",
              "      <th></th>\n",
              "      <th></th>\n",
              "      <th></th>\n",
              "      <th></th>\n",
              "      <th></th>\n",
              "      <th></th>\n",
              "    </tr>\n",
              "  </thead>\n",
              "  <tbody>\n",
              "    <tr>\n",
              "      <th>7590-VHVEG</th>\n",
              "      <td>Female</td>\n",
              "      <td>0</td>\n",
              "      <td>Yes</td>\n",
              "      <td>No</td>\n",
              "      <td>1</td>\n",
              "      <td>No</td>\n",
              "      <td>No phone service</td>\n",
              "      <td>DSL</td>\n",
              "      <td>No</td>\n",
              "      <td>Yes</td>\n",
              "      <td>No</td>\n",
              "      <td>No</td>\n",
              "      <td>No</td>\n",
              "      <td>No</td>\n",
              "      <td>Month-to-month</td>\n",
              "      <td>Yes</td>\n",
              "      <td>Electronic check</td>\n",
              "      <td>29.85</td>\n",
              "      <td>29.85</td>\n",
              "    </tr>\n",
              "    <tr>\n",
              "      <th>5575-GNVDE</th>\n",
              "      <td>Male</td>\n",
              "      <td>0</td>\n",
              "      <td>No</td>\n",
              "      <td>No</td>\n",
              "      <td>34</td>\n",
              "      <td>Yes</td>\n",
              "      <td>No</td>\n",
              "      <td>DSL</td>\n",
              "      <td>Yes</td>\n",
              "      <td>No</td>\n",
              "      <td>Yes</td>\n",
              "      <td>No</td>\n",
              "      <td>No</td>\n",
              "      <td>No</td>\n",
              "      <td>One year</td>\n",
              "      <td>No</td>\n",
              "      <td>Mailed check</td>\n",
              "      <td>56.95</td>\n",
              "      <td>1889.5</td>\n",
              "    </tr>\n",
              "    <tr>\n",
              "      <th>3668-QPYBK</th>\n",
              "      <td>Male</td>\n",
              "      <td>0</td>\n",
              "      <td>No</td>\n",
              "      <td>No</td>\n",
              "      <td>2</td>\n",
              "      <td>Yes</td>\n",
              "      <td>No</td>\n",
              "      <td>DSL</td>\n",
              "      <td>Yes</td>\n",
              "      <td>Yes</td>\n",
              "      <td>No</td>\n",
              "      <td>No</td>\n",
              "      <td>No</td>\n",
              "      <td>No</td>\n",
              "      <td>Month-to-month</td>\n",
              "      <td>Yes</td>\n",
              "      <td>Mailed check</td>\n",
              "      <td>53.85</td>\n",
              "      <td>108.15</td>\n",
              "    </tr>\n",
              "    <tr>\n",
              "      <th>7795-CFOCW</th>\n",
              "      <td>Male</td>\n",
              "      <td>0</td>\n",
              "      <td>No</td>\n",
              "      <td>No</td>\n",
              "      <td>45</td>\n",
              "      <td>No</td>\n",
              "      <td>No phone service</td>\n",
              "      <td>DSL</td>\n",
              "      <td>Yes</td>\n",
              "      <td>No</td>\n",
              "      <td>Yes</td>\n",
              "      <td>Yes</td>\n",
              "      <td>No</td>\n",
              "      <td>No</td>\n",
              "      <td>One year</td>\n",
              "      <td>No</td>\n",
              "      <td>Bank transfer (automatic)</td>\n",
              "      <td>42.30</td>\n",
              "      <td>1840.75</td>\n",
              "    </tr>\n",
              "    <tr>\n",
              "      <th>9237-HQITU</th>\n",
              "      <td>Female</td>\n",
              "      <td>0</td>\n",
              "      <td>No</td>\n",
              "      <td>No</td>\n",
              "      <td>2</td>\n",
              "      <td>Yes</td>\n",
              "      <td>No</td>\n",
              "      <td>Fiber optic</td>\n",
              "      <td>No</td>\n",
              "      <td>No</td>\n",
              "      <td>No</td>\n",
              "      <td>No</td>\n",
              "      <td>No</td>\n",
              "      <td>No</td>\n",
              "      <td>Month-to-month</td>\n",
              "      <td>Yes</td>\n",
              "      <td>Electronic check</td>\n",
              "      <td>70.70</td>\n",
              "      <td>151.65</td>\n",
              "    </tr>\n",
              "    <tr>\n",
              "      <th>...</th>\n",
              "      <td>...</td>\n",
              "      <td>...</td>\n",
              "      <td>...</td>\n",
              "      <td>...</td>\n",
              "      <td>...</td>\n",
              "      <td>...</td>\n",
              "      <td>...</td>\n",
              "      <td>...</td>\n",
              "      <td>...</td>\n",
              "      <td>...</td>\n",
              "      <td>...</td>\n",
              "      <td>...</td>\n",
              "      <td>...</td>\n",
              "      <td>...</td>\n",
              "      <td>...</td>\n",
              "      <td>...</td>\n",
              "      <td>...</td>\n",
              "      <td>...</td>\n",
              "      <td>...</td>\n",
              "    </tr>\n",
              "    <tr>\n",
              "      <th>6840-RESVB</th>\n",
              "      <td>Male</td>\n",
              "      <td>0</td>\n",
              "      <td>Yes</td>\n",
              "      <td>Yes</td>\n",
              "      <td>24</td>\n",
              "      <td>Yes</td>\n",
              "      <td>Yes</td>\n",
              "      <td>DSL</td>\n",
              "      <td>Yes</td>\n",
              "      <td>No</td>\n",
              "      <td>Yes</td>\n",
              "      <td>Yes</td>\n",
              "      <td>Yes</td>\n",
              "      <td>Yes</td>\n",
              "      <td>One year</td>\n",
              "      <td>Yes</td>\n",
              "      <td>Mailed check</td>\n",
              "      <td>84.80</td>\n",
              "      <td>1990.5</td>\n",
              "    </tr>\n",
              "    <tr>\n",
              "      <th>2234-XADUH</th>\n",
              "      <td>Female</td>\n",
              "      <td>0</td>\n",
              "      <td>Yes</td>\n",
              "      <td>Yes</td>\n",
              "      <td>72</td>\n",
              "      <td>Yes</td>\n",
              "      <td>Yes</td>\n",
              "      <td>Fiber optic</td>\n",
              "      <td>No</td>\n",
              "      <td>Yes</td>\n",
              "      <td>Yes</td>\n",
              "      <td>No</td>\n",
              "      <td>Yes</td>\n",
              "      <td>Yes</td>\n",
              "      <td>One year</td>\n",
              "      <td>Yes</td>\n",
              "      <td>Credit card (automatic)</td>\n",
              "      <td>103.20</td>\n",
              "      <td>7362.9</td>\n",
              "    </tr>\n",
              "    <tr>\n",
              "      <th>4801-JZAZL</th>\n",
              "      <td>Female</td>\n",
              "      <td>0</td>\n",
              "      <td>Yes</td>\n",
              "      <td>Yes</td>\n",
              "      <td>11</td>\n",
              "      <td>No</td>\n",
              "      <td>No phone service</td>\n",
              "      <td>DSL</td>\n",
              "      <td>Yes</td>\n",
              "      <td>No</td>\n",
              "      <td>No</td>\n",
              "      <td>No</td>\n",
              "      <td>No</td>\n",
              "      <td>No</td>\n",
              "      <td>Month-to-month</td>\n",
              "      <td>Yes</td>\n",
              "      <td>Electronic check</td>\n",
              "      <td>29.60</td>\n",
              "      <td>346.45</td>\n",
              "    </tr>\n",
              "    <tr>\n",
              "      <th>8361-LTMKD</th>\n",
              "      <td>Male</td>\n",
              "      <td>1</td>\n",
              "      <td>Yes</td>\n",
              "      <td>No</td>\n",
              "      <td>4</td>\n",
              "      <td>Yes</td>\n",
              "      <td>Yes</td>\n",
              "      <td>Fiber optic</td>\n",
              "      <td>No</td>\n",
              "      <td>No</td>\n",
              "      <td>No</td>\n",
              "      <td>No</td>\n",
              "      <td>No</td>\n",
              "      <td>No</td>\n",
              "      <td>Month-to-month</td>\n",
              "      <td>Yes</td>\n",
              "      <td>Mailed check</td>\n",
              "      <td>74.40</td>\n",
              "      <td>306.6</td>\n",
              "    </tr>\n",
              "    <tr>\n",
              "      <th>3186-AJIEK</th>\n",
              "      <td>Male</td>\n",
              "      <td>0</td>\n",
              "      <td>No</td>\n",
              "      <td>No</td>\n",
              "      <td>66</td>\n",
              "      <td>Yes</td>\n",
              "      <td>No</td>\n",
              "      <td>Fiber optic</td>\n",
              "      <td>Yes</td>\n",
              "      <td>No</td>\n",
              "      <td>Yes</td>\n",
              "      <td>Yes</td>\n",
              "      <td>Yes</td>\n",
              "      <td>Yes</td>\n",
              "      <td>Two year</td>\n",
              "      <td>Yes</td>\n",
              "      <td>Bank transfer (automatic)</td>\n",
              "      <td>105.65</td>\n",
              "      <td>6844.5</td>\n",
              "    </tr>\n",
              "  </tbody>\n",
              "</table>\n",
              "<p>7043 rows × 19 columns</p>\n",
              "</div>\n",
              "      <button class=\"colab-df-convert\" onclick=\"convertToInteractive('df-918293ea-7110-43fc-8e69-ef89e1dc4f7e')\"\n",
              "              title=\"Convert this dataframe to an interactive table.\"\n",
              "              style=\"display:none;\">\n",
              "        \n",
              "  <svg xmlns=\"http://www.w3.org/2000/svg\" height=\"24px\"viewBox=\"0 0 24 24\"\n",
              "       width=\"24px\">\n",
              "    <path d=\"M0 0h24v24H0V0z\" fill=\"none\"/>\n",
              "    <path d=\"M18.56 5.44l.94 2.06.94-2.06 2.06-.94-2.06-.94-.94-2.06-.94 2.06-2.06.94zm-11 1L8.5 8.5l.94-2.06 2.06-.94-2.06-.94L8.5 2.5l-.94 2.06-2.06.94zm10 10l.94 2.06.94-2.06 2.06-.94-2.06-.94-.94-2.06-.94 2.06-2.06.94z\"/><path d=\"M17.41 7.96l-1.37-1.37c-.4-.4-.92-.59-1.43-.59-.52 0-1.04.2-1.43.59L10.3 9.45l-7.72 7.72c-.78.78-.78 2.05 0 2.83L4 21.41c.39.39.9.59 1.41.59.51 0 1.02-.2 1.41-.59l7.78-7.78 2.81-2.81c.8-.78.8-2.07 0-2.86zM5.41 20L4 18.59l7.72-7.72 1.47 1.35L5.41 20z\"/>\n",
              "  </svg>\n",
              "      </button>\n",
              "      \n",
              "  <style>\n",
              "    .colab-df-container {\n",
              "      display:flex;\n",
              "      flex-wrap:wrap;\n",
              "      gap: 12px;\n",
              "    }\n",
              "\n",
              "    .colab-df-convert {\n",
              "      background-color: #E8F0FE;\n",
              "      border: none;\n",
              "      border-radius: 50%;\n",
              "      cursor: pointer;\n",
              "      display: none;\n",
              "      fill: #1967D2;\n",
              "      height: 32px;\n",
              "      padding: 0 0 0 0;\n",
              "      width: 32px;\n",
              "    }\n",
              "\n",
              "    .colab-df-convert:hover {\n",
              "      background-color: #E2EBFA;\n",
              "      box-shadow: 0px 1px 2px rgba(60, 64, 67, 0.3), 0px 1px 3px 1px rgba(60, 64, 67, 0.15);\n",
              "      fill: #174EA6;\n",
              "    }\n",
              "\n",
              "    [theme=dark] .colab-df-convert {\n",
              "      background-color: #3B4455;\n",
              "      fill: #D2E3FC;\n",
              "    }\n",
              "\n",
              "    [theme=dark] .colab-df-convert:hover {\n",
              "      background-color: #434B5C;\n",
              "      box-shadow: 0px 1px 3px 1px rgba(0, 0, 0, 0.15);\n",
              "      filter: drop-shadow(0px 1px 2px rgba(0, 0, 0, 0.3));\n",
              "      fill: #FFFFFF;\n",
              "    }\n",
              "  </style>\n",
              "\n",
              "      <script>\n",
              "        const buttonEl =\n",
              "          document.querySelector('#df-918293ea-7110-43fc-8e69-ef89e1dc4f7e button.colab-df-convert');\n",
              "        buttonEl.style.display =\n",
              "          google.colab.kernel.accessAllowed ? 'block' : 'none';\n",
              "\n",
              "        async function convertToInteractive(key) {\n",
              "          const element = document.querySelector('#df-918293ea-7110-43fc-8e69-ef89e1dc4f7e');\n",
              "          const dataTable =\n",
              "            await google.colab.kernel.invokeFunction('convertToInteractive',\n",
              "                                                     [key], {});\n",
              "          if (!dataTable) return;\n",
              "\n",
              "          const docLinkHtml = 'Like what you see? Visit the ' +\n",
              "            '<a target=\"_blank\" href=https://colab.research.google.com/notebooks/data_table.ipynb>data table notebook</a>'\n",
              "            + ' to learn more about interactive tables.';\n",
              "          element.innerHTML = '';\n",
              "          dataTable['output_type'] = 'display_data';\n",
              "          await google.colab.output.renderOutput(dataTable, element);\n",
              "          const docLink = document.createElement('div');\n",
              "          docLink.innerHTML = docLinkHtml;\n",
              "          element.appendChild(docLink);\n",
              "        }\n",
              "      </script>\n",
              "    </div>\n",
              "  </div>\n",
              "  "
            ]
          },
          "metadata": {},
          "execution_count": 5
        }
      ]
    },
    {
      "cell_type": "markdown",
      "source": [
        "## Data exploration"
      ],
      "metadata": {
        "id": "hCeu4YyXy7ym"
      }
    },
    {
      "cell_type": "code",
      "source": [
        "# describe\n",
        "data.info()"
      ],
      "metadata": {
        "colab": {
          "base_uri": "https://localhost:8080/"
        },
        "id": "MCJZrUUyy_NJ",
        "outputId": "b8430f46-8492-45b9-9270-0a5e8f2e52a2"
      },
      "execution_count": null,
      "outputs": [
        {
          "output_type": "stream",
          "name": "stdout",
          "text": [
            "<class 'pandas.core.frame.DataFrame'>\n",
            "Index: 7043 entries, 7590-VHVEG to 3186-AJIEK\n",
            "Data columns (total 19 columns):\n",
            " #   Column            Non-Null Count  Dtype  \n",
            "---  ------            --------------  -----  \n",
            " 0   gender            7043 non-null   object \n",
            " 1   SeniorCitizen     7043 non-null   int64  \n",
            " 2   Partner           7043 non-null   object \n",
            " 3   Dependents        7043 non-null   object \n",
            " 4   tenure            7043 non-null   int64  \n",
            " 5   PhoneService      7043 non-null   object \n",
            " 6   MultipleLines     7043 non-null   object \n",
            " 7   InternetService   7043 non-null   object \n",
            " 8   OnlineSecurity    7043 non-null   object \n",
            " 9   OnlineBackup      7043 non-null   object \n",
            " 10  DeviceProtection  7043 non-null   object \n",
            " 11  TechSupport       7043 non-null   object \n",
            " 12  StreamingTV       7043 non-null   object \n",
            " 13  StreamingMovies   7043 non-null   object \n",
            " 14  Contract          7043 non-null   object \n",
            " 15  PaperlessBilling  7043 non-null   object \n",
            " 16  PaymentMethod     7043 non-null   object \n",
            " 17  MonthlyCharges    7043 non-null   float64\n",
            " 18  TotalCharges      7043 non-null   object \n",
            "dtypes: float64(1), int64(2), object(16)\n",
            "memory usage: 1.3+ MB\n"
          ]
        }
      ]
    },
    {
      "cell_type": "code",
      "source": [
        "# présence de na dans totalcharge\n",
        "data[\"TotalCharges\"].value_counts()"
      ],
      "metadata": {
        "colab": {
          "base_uri": "https://localhost:8080/"
        },
        "id": "RDTlaN0e2vZq",
        "outputId": "99930f54-235d-4b3b-f7ce-f4a0d4497711"
      },
      "execution_count": null,
      "outputs": [
        {
          "output_type": "execute_result",
          "data": {
            "text/plain": [
              "          11\n",
              "20.2      11\n",
              "19.75      9\n",
              "20.05      8\n",
              "19.9       8\n",
              "          ..\n",
              "6849.4     1\n",
              "692.35     1\n",
              "130.15     1\n",
              "3211.9     1\n",
              "6844.5     1\n",
              "Name: TotalCharges, Length: 6531, dtype: int64"
            ]
          },
          "metadata": {},
          "execution_count": 7
        }
      ]
    },
    {
      "cell_type": "code",
      "source": [
        "data[data[\"TotalCharges\"]==\" \"]"
      ],
      "metadata": {
        "colab": {
          "base_uri": "https://localhost:8080/",
          "height": 680
        },
        "id": "tOuk1Z622-6S",
        "outputId": "a3854ecc-6d6a-4bc6-b4c4-fe46a7c13b7d"
      },
      "execution_count": null,
      "outputs": [
        {
          "output_type": "execute_result",
          "data": {
            "text/plain": [
              "            gender  SeniorCitizen Partner Dependents  tenure PhoneService  \\\n",
              "customerID                                                                  \n",
              "4472-LVYGI  Female              0     Yes        Yes       0           No   \n",
              "3115-CZMZD    Male              0      No        Yes       0          Yes   \n",
              "5709-LVOEQ  Female              0     Yes        Yes       0          Yes   \n",
              "4367-NUYAO    Male              0     Yes        Yes       0          Yes   \n",
              "1371-DWPAZ  Female              0     Yes        Yes       0           No   \n",
              "7644-OMVMY    Male              0     Yes        Yes       0          Yes   \n",
              "3213-VVOLG    Male              0     Yes        Yes       0          Yes   \n",
              "2520-SGTTA  Female              0     Yes        Yes       0          Yes   \n",
              "2923-ARZLG    Male              0     Yes        Yes       0          Yes   \n",
              "4075-WKNIU  Female              0     Yes        Yes       0          Yes   \n",
              "2775-SEFEE    Male              0      No        Yes       0          Yes   \n",
              "\n",
              "               MultipleLines InternetService       OnlineSecurity  \\\n",
              "customerID                                                          \n",
              "4472-LVYGI  No phone service             DSL                  Yes   \n",
              "3115-CZMZD                No              No  No internet service   \n",
              "5709-LVOEQ                No             DSL                  Yes   \n",
              "4367-NUYAO               Yes              No  No internet service   \n",
              "1371-DWPAZ  No phone service             DSL                  Yes   \n",
              "7644-OMVMY                No              No  No internet service   \n",
              "3213-VVOLG               Yes              No  No internet service   \n",
              "2520-SGTTA                No              No  No internet service   \n",
              "2923-ARZLG                No              No  No internet service   \n",
              "4075-WKNIU               Yes             DSL                   No   \n",
              "2775-SEFEE               Yes             DSL                  Yes   \n",
              "\n",
              "                   OnlineBackup     DeviceProtection          TechSupport  \\\n",
              "customerID                                                                  \n",
              "4472-LVYGI                   No                  Yes                  Yes   \n",
              "3115-CZMZD  No internet service  No internet service  No internet service   \n",
              "5709-LVOEQ                  Yes                  Yes                   No   \n",
              "4367-NUYAO  No internet service  No internet service  No internet service   \n",
              "1371-DWPAZ                  Yes                  Yes                  Yes   \n",
              "7644-OMVMY  No internet service  No internet service  No internet service   \n",
              "3213-VVOLG  No internet service  No internet service  No internet service   \n",
              "2520-SGTTA  No internet service  No internet service  No internet service   \n",
              "2923-ARZLG  No internet service  No internet service  No internet service   \n",
              "4075-WKNIU                  Yes                  Yes                  Yes   \n",
              "2775-SEFEE                  Yes                   No                  Yes   \n",
              "\n",
              "                    StreamingTV      StreamingMovies  Contract  \\\n",
              "customerID                                                       \n",
              "4472-LVYGI                  Yes                   No  Two year   \n",
              "3115-CZMZD  No internet service  No internet service  Two year   \n",
              "5709-LVOEQ                  Yes                  Yes  Two year   \n",
              "4367-NUYAO  No internet service  No internet service  Two year   \n",
              "1371-DWPAZ                  Yes                   No  Two year   \n",
              "7644-OMVMY  No internet service  No internet service  Two year   \n",
              "3213-VVOLG  No internet service  No internet service  Two year   \n",
              "2520-SGTTA  No internet service  No internet service  Two year   \n",
              "2923-ARZLG  No internet service  No internet service  One year   \n",
              "4075-WKNIU                  Yes                   No  Two year   \n",
              "2775-SEFEE                   No                   No  Two year   \n",
              "\n",
              "           PaperlessBilling              PaymentMethod  MonthlyCharges  \\\n",
              "customerID                                                               \n",
              "4472-LVYGI              Yes  Bank transfer (automatic)           52.55   \n",
              "3115-CZMZD               No               Mailed check           20.25   \n",
              "5709-LVOEQ               No               Mailed check           80.85   \n",
              "4367-NUYAO               No               Mailed check           25.75   \n",
              "1371-DWPAZ               No    Credit card (automatic)           56.05   \n",
              "7644-OMVMY               No               Mailed check           19.85   \n",
              "3213-VVOLG               No               Mailed check           25.35   \n",
              "2520-SGTTA               No               Mailed check           20.00   \n",
              "2923-ARZLG              Yes               Mailed check           19.70   \n",
              "4075-WKNIU               No               Mailed check           73.35   \n",
              "2775-SEFEE              Yes  Bank transfer (automatic)           61.90   \n",
              "\n",
              "           TotalCharges  \n",
              "customerID               \n",
              "4472-LVYGI               \n",
              "3115-CZMZD               \n",
              "5709-LVOEQ               \n",
              "4367-NUYAO               \n",
              "1371-DWPAZ               \n",
              "7644-OMVMY               \n",
              "3213-VVOLG               \n",
              "2520-SGTTA               \n",
              "2923-ARZLG               \n",
              "4075-WKNIU               \n",
              "2775-SEFEE               "
            ],
            "text/html": [
              "\n",
              "  <div id=\"df-cb3cb1f7-53ae-4b3c-9690-f1d00783f44f\">\n",
              "    <div class=\"colab-df-container\">\n",
              "      <div>\n",
              "<style scoped>\n",
              "    .dataframe tbody tr th:only-of-type {\n",
              "        vertical-align: middle;\n",
              "    }\n",
              "\n",
              "    .dataframe tbody tr th {\n",
              "        vertical-align: top;\n",
              "    }\n",
              "\n",
              "    .dataframe thead th {\n",
              "        text-align: right;\n",
              "    }\n",
              "</style>\n",
              "<table border=\"1\" class=\"dataframe\">\n",
              "  <thead>\n",
              "    <tr style=\"text-align: right;\">\n",
              "      <th></th>\n",
              "      <th>gender</th>\n",
              "      <th>SeniorCitizen</th>\n",
              "      <th>Partner</th>\n",
              "      <th>Dependents</th>\n",
              "      <th>tenure</th>\n",
              "      <th>PhoneService</th>\n",
              "      <th>MultipleLines</th>\n",
              "      <th>InternetService</th>\n",
              "      <th>OnlineSecurity</th>\n",
              "      <th>OnlineBackup</th>\n",
              "      <th>DeviceProtection</th>\n",
              "      <th>TechSupport</th>\n",
              "      <th>StreamingTV</th>\n",
              "      <th>StreamingMovies</th>\n",
              "      <th>Contract</th>\n",
              "      <th>PaperlessBilling</th>\n",
              "      <th>PaymentMethod</th>\n",
              "      <th>MonthlyCharges</th>\n",
              "      <th>TotalCharges</th>\n",
              "    </tr>\n",
              "    <tr>\n",
              "      <th>customerID</th>\n",
              "      <th></th>\n",
              "      <th></th>\n",
              "      <th></th>\n",
              "      <th></th>\n",
              "      <th></th>\n",
              "      <th></th>\n",
              "      <th></th>\n",
              "      <th></th>\n",
              "      <th></th>\n",
              "      <th></th>\n",
              "      <th></th>\n",
              "      <th></th>\n",
              "      <th></th>\n",
              "      <th></th>\n",
              "      <th></th>\n",
              "      <th></th>\n",
              "      <th></th>\n",
              "      <th></th>\n",
              "      <th></th>\n",
              "    </tr>\n",
              "  </thead>\n",
              "  <tbody>\n",
              "    <tr>\n",
              "      <th>4472-LVYGI</th>\n",
              "      <td>Female</td>\n",
              "      <td>0</td>\n",
              "      <td>Yes</td>\n",
              "      <td>Yes</td>\n",
              "      <td>0</td>\n",
              "      <td>No</td>\n",
              "      <td>No phone service</td>\n",
              "      <td>DSL</td>\n",
              "      <td>Yes</td>\n",
              "      <td>No</td>\n",
              "      <td>Yes</td>\n",
              "      <td>Yes</td>\n",
              "      <td>Yes</td>\n",
              "      <td>No</td>\n",
              "      <td>Two year</td>\n",
              "      <td>Yes</td>\n",
              "      <td>Bank transfer (automatic)</td>\n",
              "      <td>52.55</td>\n",
              "      <td></td>\n",
              "    </tr>\n",
              "    <tr>\n",
              "      <th>3115-CZMZD</th>\n",
              "      <td>Male</td>\n",
              "      <td>0</td>\n",
              "      <td>No</td>\n",
              "      <td>Yes</td>\n",
              "      <td>0</td>\n",
              "      <td>Yes</td>\n",
              "      <td>No</td>\n",
              "      <td>No</td>\n",
              "      <td>No internet service</td>\n",
              "      <td>No internet service</td>\n",
              "      <td>No internet service</td>\n",
              "      <td>No internet service</td>\n",
              "      <td>No internet service</td>\n",
              "      <td>No internet service</td>\n",
              "      <td>Two year</td>\n",
              "      <td>No</td>\n",
              "      <td>Mailed check</td>\n",
              "      <td>20.25</td>\n",
              "      <td></td>\n",
              "    </tr>\n",
              "    <tr>\n",
              "      <th>5709-LVOEQ</th>\n",
              "      <td>Female</td>\n",
              "      <td>0</td>\n",
              "      <td>Yes</td>\n",
              "      <td>Yes</td>\n",
              "      <td>0</td>\n",
              "      <td>Yes</td>\n",
              "      <td>No</td>\n",
              "      <td>DSL</td>\n",
              "      <td>Yes</td>\n",
              "      <td>Yes</td>\n",
              "      <td>Yes</td>\n",
              "      <td>No</td>\n",
              "      <td>Yes</td>\n",
              "      <td>Yes</td>\n",
              "      <td>Two year</td>\n",
              "      <td>No</td>\n",
              "      <td>Mailed check</td>\n",
              "      <td>80.85</td>\n",
              "      <td></td>\n",
              "    </tr>\n",
              "    <tr>\n",
              "      <th>4367-NUYAO</th>\n",
              "      <td>Male</td>\n",
              "      <td>0</td>\n",
              "      <td>Yes</td>\n",
              "      <td>Yes</td>\n",
              "      <td>0</td>\n",
              "      <td>Yes</td>\n",
              "      <td>Yes</td>\n",
              "      <td>No</td>\n",
              "      <td>No internet service</td>\n",
              "      <td>No internet service</td>\n",
              "      <td>No internet service</td>\n",
              "      <td>No internet service</td>\n",
              "      <td>No internet service</td>\n",
              "      <td>No internet service</td>\n",
              "      <td>Two year</td>\n",
              "      <td>No</td>\n",
              "      <td>Mailed check</td>\n",
              "      <td>25.75</td>\n",
              "      <td></td>\n",
              "    </tr>\n",
              "    <tr>\n",
              "      <th>1371-DWPAZ</th>\n",
              "      <td>Female</td>\n",
              "      <td>0</td>\n",
              "      <td>Yes</td>\n",
              "      <td>Yes</td>\n",
              "      <td>0</td>\n",
              "      <td>No</td>\n",
              "      <td>No phone service</td>\n",
              "      <td>DSL</td>\n",
              "      <td>Yes</td>\n",
              "      <td>Yes</td>\n",
              "      <td>Yes</td>\n",
              "      <td>Yes</td>\n",
              "      <td>Yes</td>\n",
              "      <td>No</td>\n",
              "      <td>Two year</td>\n",
              "      <td>No</td>\n",
              "      <td>Credit card (automatic)</td>\n",
              "      <td>56.05</td>\n",
              "      <td></td>\n",
              "    </tr>\n",
              "    <tr>\n",
              "      <th>7644-OMVMY</th>\n",
              "      <td>Male</td>\n",
              "      <td>0</td>\n",
              "      <td>Yes</td>\n",
              "      <td>Yes</td>\n",
              "      <td>0</td>\n",
              "      <td>Yes</td>\n",
              "      <td>No</td>\n",
              "      <td>No</td>\n",
              "      <td>No internet service</td>\n",
              "      <td>No internet service</td>\n",
              "      <td>No internet service</td>\n",
              "      <td>No internet service</td>\n",
              "      <td>No internet service</td>\n",
              "      <td>No internet service</td>\n",
              "      <td>Two year</td>\n",
              "      <td>No</td>\n",
              "      <td>Mailed check</td>\n",
              "      <td>19.85</td>\n",
              "      <td></td>\n",
              "    </tr>\n",
              "    <tr>\n",
              "      <th>3213-VVOLG</th>\n",
              "      <td>Male</td>\n",
              "      <td>0</td>\n",
              "      <td>Yes</td>\n",
              "      <td>Yes</td>\n",
              "      <td>0</td>\n",
              "      <td>Yes</td>\n",
              "      <td>Yes</td>\n",
              "      <td>No</td>\n",
              "      <td>No internet service</td>\n",
              "      <td>No internet service</td>\n",
              "      <td>No internet service</td>\n",
              "      <td>No internet service</td>\n",
              "      <td>No internet service</td>\n",
              "      <td>No internet service</td>\n",
              "      <td>Two year</td>\n",
              "      <td>No</td>\n",
              "      <td>Mailed check</td>\n",
              "      <td>25.35</td>\n",
              "      <td></td>\n",
              "    </tr>\n",
              "    <tr>\n",
              "      <th>2520-SGTTA</th>\n",
              "      <td>Female</td>\n",
              "      <td>0</td>\n",
              "      <td>Yes</td>\n",
              "      <td>Yes</td>\n",
              "      <td>0</td>\n",
              "      <td>Yes</td>\n",
              "      <td>No</td>\n",
              "      <td>No</td>\n",
              "      <td>No internet service</td>\n",
              "      <td>No internet service</td>\n",
              "      <td>No internet service</td>\n",
              "      <td>No internet service</td>\n",
              "      <td>No internet service</td>\n",
              "      <td>No internet service</td>\n",
              "      <td>Two year</td>\n",
              "      <td>No</td>\n",
              "      <td>Mailed check</td>\n",
              "      <td>20.00</td>\n",
              "      <td></td>\n",
              "    </tr>\n",
              "    <tr>\n",
              "      <th>2923-ARZLG</th>\n",
              "      <td>Male</td>\n",
              "      <td>0</td>\n",
              "      <td>Yes</td>\n",
              "      <td>Yes</td>\n",
              "      <td>0</td>\n",
              "      <td>Yes</td>\n",
              "      <td>No</td>\n",
              "      <td>No</td>\n",
              "      <td>No internet service</td>\n",
              "      <td>No internet service</td>\n",
              "      <td>No internet service</td>\n",
              "      <td>No internet service</td>\n",
              "      <td>No internet service</td>\n",
              "      <td>No internet service</td>\n",
              "      <td>One year</td>\n",
              "      <td>Yes</td>\n",
              "      <td>Mailed check</td>\n",
              "      <td>19.70</td>\n",
              "      <td></td>\n",
              "    </tr>\n",
              "    <tr>\n",
              "      <th>4075-WKNIU</th>\n",
              "      <td>Female</td>\n",
              "      <td>0</td>\n",
              "      <td>Yes</td>\n",
              "      <td>Yes</td>\n",
              "      <td>0</td>\n",
              "      <td>Yes</td>\n",
              "      <td>Yes</td>\n",
              "      <td>DSL</td>\n",
              "      <td>No</td>\n",
              "      <td>Yes</td>\n",
              "      <td>Yes</td>\n",
              "      <td>Yes</td>\n",
              "      <td>Yes</td>\n",
              "      <td>No</td>\n",
              "      <td>Two year</td>\n",
              "      <td>No</td>\n",
              "      <td>Mailed check</td>\n",
              "      <td>73.35</td>\n",
              "      <td></td>\n",
              "    </tr>\n",
              "    <tr>\n",
              "      <th>2775-SEFEE</th>\n",
              "      <td>Male</td>\n",
              "      <td>0</td>\n",
              "      <td>No</td>\n",
              "      <td>Yes</td>\n",
              "      <td>0</td>\n",
              "      <td>Yes</td>\n",
              "      <td>Yes</td>\n",
              "      <td>DSL</td>\n",
              "      <td>Yes</td>\n",
              "      <td>Yes</td>\n",
              "      <td>No</td>\n",
              "      <td>Yes</td>\n",
              "      <td>No</td>\n",
              "      <td>No</td>\n",
              "      <td>Two year</td>\n",
              "      <td>Yes</td>\n",
              "      <td>Bank transfer (automatic)</td>\n",
              "      <td>61.90</td>\n",
              "      <td></td>\n",
              "    </tr>\n",
              "  </tbody>\n",
              "</table>\n",
              "</div>\n",
              "      <button class=\"colab-df-convert\" onclick=\"convertToInteractive('df-cb3cb1f7-53ae-4b3c-9690-f1d00783f44f')\"\n",
              "              title=\"Convert this dataframe to an interactive table.\"\n",
              "              style=\"display:none;\">\n",
              "        \n",
              "  <svg xmlns=\"http://www.w3.org/2000/svg\" height=\"24px\"viewBox=\"0 0 24 24\"\n",
              "       width=\"24px\">\n",
              "    <path d=\"M0 0h24v24H0V0z\" fill=\"none\"/>\n",
              "    <path d=\"M18.56 5.44l.94 2.06.94-2.06 2.06-.94-2.06-.94-.94-2.06-.94 2.06-2.06.94zm-11 1L8.5 8.5l.94-2.06 2.06-.94-2.06-.94L8.5 2.5l-.94 2.06-2.06.94zm10 10l.94 2.06.94-2.06 2.06-.94-2.06-.94-.94-2.06-.94 2.06-2.06.94z\"/><path d=\"M17.41 7.96l-1.37-1.37c-.4-.4-.92-.59-1.43-.59-.52 0-1.04.2-1.43.59L10.3 9.45l-7.72 7.72c-.78.78-.78 2.05 0 2.83L4 21.41c.39.39.9.59 1.41.59.51 0 1.02-.2 1.41-.59l7.78-7.78 2.81-2.81c.8-.78.8-2.07 0-2.86zM5.41 20L4 18.59l7.72-7.72 1.47 1.35L5.41 20z\"/>\n",
              "  </svg>\n",
              "      </button>\n",
              "      \n",
              "  <style>\n",
              "    .colab-df-container {\n",
              "      display:flex;\n",
              "      flex-wrap:wrap;\n",
              "      gap: 12px;\n",
              "    }\n",
              "\n",
              "    .colab-df-convert {\n",
              "      background-color: #E8F0FE;\n",
              "      border: none;\n",
              "      border-radius: 50%;\n",
              "      cursor: pointer;\n",
              "      display: none;\n",
              "      fill: #1967D2;\n",
              "      height: 32px;\n",
              "      padding: 0 0 0 0;\n",
              "      width: 32px;\n",
              "    }\n",
              "\n",
              "    .colab-df-convert:hover {\n",
              "      background-color: #E2EBFA;\n",
              "      box-shadow: 0px 1px 2px rgba(60, 64, 67, 0.3), 0px 1px 3px 1px rgba(60, 64, 67, 0.15);\n",
              "      fill: #174EA6;\n",
              "    }\n",
              "\n",
              "    [theme=dark] .colab-df-convert {\n",
              "      background-color: #3B4455;\n",
              "      fill: #D2E3FC;\n",
              "    }\n",
              "\n",
              "    [theme=dark] .colab-df-convert:hover {\n",
              "      background-color: #434B5C;\n",
              "      box-shadow: 0px 1px 3px 1px rgba(0, 0, 0, 0.15);\n",
              "      filter: drop-shadow(0px 1px 2px rgba(0, 0, 0, 0.3));\n",
              "      fill: #FFFFFF;\n",
              "    }\n",
              "  </style>\n",
              "\n",
              "      <script>\n",
              "        const buttonEl =\n",
              "          document.querySelector('#df-cb3cb1f7-53ae-4b3c-9690-f1d00783f44f button.colab-df-convert');\n",
              "        buttonEl.style.display =\n",
              "          google.colab.kernel.accessAllowed ? 'block' : 'none';\n",
              "\n",
              "        async function convertToInteractive(key) {\n",
              "          const element = document.querySelector('#df-cb3cb1f7-53ae-4b3c-9690-f1d00783f44f');\n",
              "          const dataTable =\n",
              "            await google.colab.kernel.invokeFunction('convertToInteractive',\n",
              "                                                     [key], {});\n",
              "          if (!dataTable) return;\n",
              "\n",
              "          const docLinkHtml = 'Like what you see? Visit the ' +\n",
              "            '<a target=\"_blank\" href=https://colab.research.google.com/notebooks/data_table.ipynb>data table notebook</a>'\n",
              "            + ' to learn more about interactive tables.';\n",
              "          element.innerHTML = '';\n",
              "          dataTable['output_type'] = 'display_data';\n",
              "          await google.colab.output.renderOutput(dataTable, element);\n",
              "          const docLink = document.createElement('div');\n",
              "          docLink.innerHTML = docLinkHtml;\n",
              "          element.appendChild(docLink);\n",
              "        }\n",
              "      </script>\n",
              "    </div>\n",
              "  </div>\n",
              "  "
            ]
          },
          "metadata": {},
          "execution_count": 8
        }
      ]
    },
    {
      "cell_type": "code",
      "source": [
        "# on les remplacer par zéro et les imputer après\n",
        "test = (data[\"TotalCharges\"]==\" \")\n",
        "data[\"TotalCharges\"]=np.where(test==True,\"0\",data[\"TotalCharges\"])\n",
        "\n",
        "# ON SUPPRIME CES DONNEES\n"
      ],
      "metadata": {
        "id": "bth0MzLD3Wdq"
      },
      "execution_count": null,
      "outputs": []
    },
    {
      "cell_type": "code",
      "source": [
        "# Total is object we need to change it into float64\n",
        "data[\"TotalCharges\"]=data[\"TotalCharges\"].astype(dtype=\"float64\")"
      ],
      "metadata": {
        "id": "OoHJWSUN1dOj"
      },
      "execution_count": null,
      "outputs": []
    },
    {
      "cell_type": "code",
      "source": [
        "# checking null na/null\n",
        "data.isnull().sum()"
      ],
      "metadata": {
        "colab": {
          "base_uri": "https://localhost:8080/"
        },
        "id": "hWEvGzyVzQNV",
        "outputId": "cd1122c3-960e-4973-c1b7-041c1439c631"
      },
      "execution_count": null,
      "outputs": [
        {
          "output_type": "execute_result",
          "data": {
            "text/plain": [
              "gender              0\n",
              "SeniorCitizen       0\n",
              "Partner             0\n",
              "Dependents          0\n",
              "tenure              0\n",
              "PhoneService        0\n",
              "MultipleLines       0\n",
              "InternetService     0\n",
              "OnlineSecurity      0\n",
              "OnlineBackup        0\n",
              "DeviceProtection    0\n",
              "TechSupport         0\n",
              "StreamingTV         0\n",
              "StreamingMovies     0\n",
              "Contract            0\n",
              "PaperlessBilling    0\n",
              "PaymentMethod       0\n",
              "MonthlyCharges      0\n",
              "TotalCharges        0\n",
              "dtype: int64"
            ]
          },
          "metadata": {},
          "execution_count": 11
        }
      ]
    },
    {
      "cell_type": "code",
      "source": [
        "cat_colums = data.select_dtypes(\"object\").columns\n",
        "#data[cat_colums]"
      ],
      "metadata": {
        "id": "zu9amIQuzaGO"
      },
      "execution_count": null,
      "outputs": []
    },
    {
      "cell_type": "code",
      "source": [
        "for col in cat_colums:\n",
        "  print(\"************************\")\n",
        "  print(data[col].value_counts())\n",
        "  print(\"************************\")"
      ],
      "metadata": {
        "colab": {
          "base_uri": "https://localhost:8080/"
        },
        "id": "FVufqCl80tRr",
        "outputId": "a7aa75b4-8659-4696-f223-09d5895d30d3"
      },
      "execution_count": null,
      "outputs": [
        {
          "output_type": "stream",
          "name": "stdout",
          "text": [
            "************************\n",
            "Male      3555\n",
            "Female    3488\n",
            "Name: gender, dtype: int64\n",
            "************************\n",
            "************************\n",
            "No     3641\n",
            "Yes    3402\n",
            "Name: Partner, dtype: int64\n",
            "************************\n",
            "************************\n",
            "No     4933\n",
            "Yes    2110\n",
            "Name: Dependents, dtype: int64\n",
            "************************\n",
            "************************\n",
            "Yes    6361\n",
            "No      682\n",
            "Name: PhoneService, dtype: int64\n",
            "************************\n",
            "************************\n",
            "No                  3390\n",
            "Yes                 2971\n",
            "No phone service     682\n",
            "Name: MultipleLines, dtype: int64\n",
            "************************\n",
            "************************\n",
            "Fiber optic    3096\n",
            "DSL            2421\n",
            "No             1526\n",
            "Name: InternetService, dtype: int64\n",
            "************************\n",
            "************************\n",
            "No                     3498\n",
            "Yes                    2019\n",
            "No internet service    1526\n",
            "Name: OnlineSecurity, dtype: int64\n",
            "************************\n",
            "************************\n",
            "No                     3088\n",
            "Yes                    2429\n",
            "No internet service    1526\n",
            "Name: OnlineBackup, dtype: int64\n",
            "************************\n",
            "************************\n",
            "No                     3095\n",
            "Yes                    2422\n",
            "No internet service    1526\n",
            "Name: DeviceProtection, dtype: int64\n",
            "************************\n",
            "************************\n",
            "No                     3473\n",
            "Yes                    2044\n",
            "No internet service    1526\n",
            "Name: TechSupport, dtype: int64\n",
            "************************\n",
            "************************\n",
            "No                     2810\n",
            "Yes                    2707\n",
            "No internet service    1526\n",
            "Name: StreamingTV, dtype: int64\n",
            "************************\n",
            "************************\n",
            "No                     2785\n",
            "Yes                    2732\n",
            "No internet service    1526\n",
            "Name: StreamingMovies, dtype: int64\n",
            "************************\n",
            "************************\n",
            "Month-to-month    3875\n",
            "Two year          1695\n",
            "One year          1473\n",
            "Name: Contract, dtype: int64\n",
            "************************\n",
            "************************\n",
            "Yes    4171\n",
            "No     2872\n",
            "Name: PaperlessBilling, dtype: int64\n",
            "************************\n",
            "************************\n",
            "Electronic check             2365\n",
            "Mailed check                 1612\n",
            "Bank transfer (automatic)    1544\n",
            "Credit card (automatic)      1522\n",
            "Name: PaymentMethod, dtype: int64\n",
            "************************\n"
          ]
        }
      ]
    },
    {
      "cell_type": "code",
      "source": [
        "ind_to_drop = data[data[\"TotalCharges\"]==0].index"
      ],
      "metadata": {
        "id": "x78hAE1C6ZcK"
      },
      "execution_count": null,
      "outputs": []
    },
    {
      "cell_type": "code",
      "source": [
        "#TESTING DROP METHODE\n",
        "datab= data.drop(index=ind_to_drop)\n",
        "#target = target.drop(index=ind_to_drop)\n",
        "data.shape"
      ],
      "metadata": {
        "colab": {
          "base_uri": "https://localhost:8080/"
        },
        "id": "b5_SWm2x5JiU",
        "outputId": "394d48a2-6573-4613-a4cf-17613066d7fb"
      },
      "execution_count": null,
      "outputs": [
        {
          "output_type": "execute_result",
          "data": {
            "text/plain": [
              "(7043, 19)"
            ]
          },
          "metadata": {},
          "execution_count": 15
        }
      ]
    },
    {
      "cell_type": "code",
      "source": [
        "coef = datab.MonthlyCharges.sum()/datab.TotalCharges.sum()\n",
        "coef"
      ],
      "metadata": {
        "colab": {
          "base_uri": "https://localhost:8080/"
        },
        "id": "2tnfnMRz6t1Y",
        "outputId": "7ae3621d-557d-4c6a-dc1b-cd1f326cafa2"
      },
      "execution_count": null,
      "outputs": [
        {
          "output_type": "execute_result",
          "data": {
            "text/plain": [
              "0.028379186125516976"
            ]
          },
          "metadata": {},
          "execution_count": 16
        }
      ]
    },
    {
      "cell_type": "code",
      "source": [
        "test = (data[\"TotalCharges\"]==0)\n",
        "\n",
        "data[\"TotalCharges\"]=np.where(test==True,data[\"MonthlyCharges\"]/coef,data[\"TotalCharges\"])"
      ],
      "metadata": {
        "id": "KUQi8o8z6Aph"
      },
      "execution_count": null,
      "outputs": []
    },
    {
      "cell_type": "code",
      "source": [
        "data[test]"
      ],
      "metadata": {
        "colab": {
          "base_uri": "https://localhost:8080/",
          "height": 680
        },
        "id": "31IMIft47zAg",
        "outputId": "bd522a21-f7e2-487c-d520-91cb1a238ade"
      },
      "execution_count": null,
      "outputs": [
        {
          "output_type": "execute_result",
          "data": {
            "text/plain": [
              "            gender  SeniorCitizen Partner Dependents  tenure PhoneService  \\\n",
              "customerID                                                                  \n",
              "4472-LVYGI  Female              0     Yes        Yes       0           No   \n",
              "3115-CZMZD    Male              0      No        Yes       0          Yes   \n",
              "5709-LVOEQ  Female              0     Yes        Yes       0          Yes   \n",
              "4367-NUYAO    Male              0     Yes        Yes       0          Yes   \n",
              "1371-DWPAZ  Female              0     Yes        Yes       0           No   \n",
              "7644-OMVMY    Male              0     Yes        Yes       0          Yes   \n",
              "3213-VVOLG    Male              0     Yes        Yes       0          Yes   \n",
              "2520-SGTTA  Female              0     Yes        Yes       0          Yes   \n",
              "2923-ARZLG    Male              0     Yes        Yes       0          Yes   \n",
              "4075-WKNIU  Female              0     Yes        Yes       0          Yes   \n",
              "2775-SEFEE    Male              0      No        Yes       0          Yes   \n",
              "\n",
              "               MultipleLines InternetService       OnlineSecurity  \\\n",
              "customerID                                                          \n",
              "4472-LVYGI  No phone service             DSL                  Yes   \n",
              "3115-CZMZD                No              No  No internet service   \n",
              "5709-LVOEQ                No             DSL                  Yes   \n",
              "4367-NUYAO               Yes              No  No internet service   \n",
              "1371-DWPAZ  No phone service             DSL                  Yes   \n",
              "7644-OMVMY                No              No  No internet service   \n",
              "3213-VVOLG               Yes              No  No internet service   \n",
              "2520-SGTTA                No              No  No internet service   \n",
              "2923-ARZLG                No              No  No internet service   \n",
              "4075-WKNIU               Yes             DSL                   No   \n",
              "2775-SEFEE               Yes             DSL                  Yes   \n",
              "\n",
              "                   OnlineBackup     DeviceProtection          TechSupport  \\\n",
              "customerID                                                                  \n",
              "4472-LVYGI                   No                  Yes                  Yes   \n",
              "3115-CZMZD  No internet service  No internet service  No internet service   \n",
              "5709-LVOEQ                  Yes                  Yes                   No   \n",
              "4367-NUYAO  No internet service  No internet service  No internet service   \n",
              "1371-DWPAZ                  Yes                  Yes                  Yes   \n",
              "7644-OMVMY  No internet service  No internet service  No internet service   \n",
              "3213-VVOLG  No internet service  No internet service  No internet service   \n",
              "2520-SGTTA  No internet service  No internet service  No internet service   \n",
              "2923-ARZLG  No internet service  No internet service  No internet service   \n",
              "4075-WKNIU                  Yes                  Yes                  Yes   \n",
              "2775-SEFEE                  Yes                   No                  Yes   \n",
              "\n",
              "                    StreamingTV      StreamingMovies  Contract  \\\n",
              "customerID                                                       \n",
              "4472-LVYGI                  Yes                   No  Two year   \n",
              "3115-CZMZD  No internet service  No internet service  Two year   \n",
              "5709-LVOEQ                  Yes                  Yes  Two year   \n",
              "4367-NUYAO  No internet service  No internet service  Two year   \n",
              "1371-DWPAZ                  Yes                   No  Two year   \n",
              "7644-OMVMY  No internet service  No internet service  Two year   \n",
              "3213-VVOLG  No internet service  No internet service  Two year   \n",
              "2520-SGTTA  No internet service  No internet service  Two year   \n",
              "2923-ARZLG  No internet service  No internet service  One year   \n",
              "4075-WKNIU                  Yes                   No  Two year   \n",
              "2775-SEFEE                   No                   No  Two year   \n",
              "\n",
              "           PaperlessBilling              PaymentMethod  MonthlyCharges  \\\n",
              "customerID                                                               \n",
              "4472-LVYGI              Yes  Bank transfer (automatic)           52.55   \n",
              "3115-CZMZD               No               Mailed check           20.25   \n",
              "5709-LVOEQ               No               Mailed check           80.85   \n",
              "4367-NUYAO               No               Mailed check           25.75   \n",
              "1371-DWPAZ               No    Credit card (automatic)           56.05   \n",
              "7644-OMVMY               No               Mailed check           19.85   \n",
              "3213-VVOLG               No               Mailed check           25.35   \n",
              "2520-SGTTA               No               Mailed check           20.00   \n",
              "2923-ARZLG              Yes               Mailed check           19.70   \n",
              "4075-WKNIU               No               Mailed check           73.35   \n",
              "2775-SEFEE              Yes  Bank transfer (automatic)           61.90   \n",
              "\n",
              "            TotalCharges  \n",
              "customerID                \n",
              "4472-LVYGI   1851.709199  \n",
              "3115-CZMZD    713.551118  \n",
              "5709-LVOEQ   2848.918910  \n",
              "4367-NUYAO    907.355126  \n",
              "1371-DWPAZ   1975.039022  \n",
              "7644-OMVMY    699.456282  \n",
              "3213-VVOLG    893.260289  \n",
              "2520-SGTTA    704.741845  \n",
              "2923-ARZLG    694.170718  \n",
              "4075-WKNIU   2584.640718  \n",
              "2775-SEFEE   2181.176011  "
            ],
            "text/html": [
              "\n",
              "  <div id=\"df-4ec29e2f-bce6-4708-9d53-582f8506be39\">\n",
              "    <div class=\"colab-df-container\">\n",
              "      <div>\n",
              "<style scoped>\n",
              "    .dataframe tbody tr th:only-of-type {\n",
              "        vertical-align: middle;\n",
              "    }\n",
              "\n",
              "    .dataframe tbody tr th {\n",
              "        vertical-align: top;\n",
              "    }\n",
              "\n",
              "    .dataframe thead th {\n",
              "        text-align: right;\n",
              "    }\n",
              "</style>\n",
              "<table border=\"1\" class=\"dataframe\">\n",
              "  <thead>\n",
              "    <tr style=\"text-align: right;\">\n",
              "      <th></th>\n",
              "      <th>gender</th>\n",
              "      <th>SeniorCitizen</th>\n",
              "      <th>Partner</th>\n",
              "      <th>Dependents</th>\n",
              "      <th>tenure</th>\n",
              "      <th>PhoneService</th>\n",
              "      <th>MultipleLines</th>\n",
              "      <th>InternetService</th>\n",
              "      <th>OnlineSecurity</th>\n",
              "      <th>OnlineBackup</th>\n",
              "      <th>DeviceProtection</th>\n",
              "      <th>TechSupport</th>\n",
              "      <th>StreamingTV</th>\n",
              "      <th>StreamingMovies</th>\n",
              "      <th>Contract</th>\n",
              "      <th>PaperlessBilling</th>\n",
              "      <th>PaymentMethod</th>\n",
              "      <th>MonthlyCharges</th>\n",
              "      <th>TotalCharges</th>\n",
              "    </tr>\n",
              "    <tr>\n",
              "      <th>customerID</th>\n",
              "      <th></th>\n",
              "      <th></th>\n",
              "      <th></th>\n",
              "      <th></th>\n",
              "      <th></th>\n",
              "      <th></th>\n",
              "      <th></th>\n",
              "      <th></th>\n",
              "      <th></th>\n",
              "      <th></th>\n",
              "      <th></th>\n",
              "      <th></th>\n",
              "      <th></th>\n",
              "      <th></th>\n",
              "      <th></th>\n",
              "      <th></th>\n",
              "      <th></th>\n",
              "      <th></th>\n",
              "      <th></th>\n",
              "    </tr>\n",
              "  </thead>\n",
              "  <tbody>\n",
              "    <tr>\n",
              "      <th>4472-LVYGI</th>\n",
              "      <td>Female</td>\n",
              "      <td>0</td>\n",
              "      <td>Yes</td>\n",
              "      <td>Yes</td>\n",
              "      <td>0</td>\n",
              "      <td>No</td>\n",
              "      <td>No phone service</td>\n",
              "      <td>DSL</td>\n",
              "      <td>Yes</td>\n",
              "      <td>No</td>\n",
              "      <td>Yes</td>\n",
              "      <td>Yes</td>\n",
              "      <td>Yes</td>\n",
              "      <td>No</td>\n",
              "      <td>Two year</td>\n",
              "      <td>Yes</td>\n",
              "      <td>Bank transfer (automatic)</td>\n",
              "      <td>52.55</td>\n",
              "      <td>1851.709199</td>\n",
              "    </tr>\n",
              "    <tr>\n",
              "      <th>3115-CZMZD</th>\n",
              "      <td>Male</td>\n",
              "      <td>0</td>\n",
              "      <td>No</td>\n",
              "      <td>Yes</td>\n",
              "      <td>0</td>\n",
              "      <td>Yes</td>\n",
              "      <td>No</td>\n",
              "      <td>No</td>\n",
              "      <td>No internet service</td>\n",
              "      <td>No internet service</td>\n",
              "      <td>No internet service</td>\n",
              "      <td>No internet service</td>\n",
              "      <td>No internet service</td>\n",
              "      <td>No internet service</td>\n",
              "      <td>Two year</td>\n",
              "      <td>No</td>\n",
              "      <td>Mailed check</td>\n",
              "      <td>20.25</td>\n",
              "      <td>713.551118</td>\n",
              "    </tr>\n",
              "    <tr>\n",
              "      <th>5709-LVOEQ</th>\n",
              "      <td>Female</td>\n",
              "      <td>0</td>\n",
              "      <td>Yes</td>\n",
              "      <td>Yes</td>\n",
              "      <td>0</td>\n",
              "      <td>Yes</td>\n",
              "      <td>No</td>\n",
              "      <td>DSL</td>\n",
              "      <td>Yes</td>\n",
              "      <td>Yes</td>\n",
              "      <td>Yes</td>\n",
              "      <td>No</td>\n",
              "      <td>Yes</td>\n",
              "      <td>Yes</td>\n",
              "      <td>Two year</td>\n",
              "      <td>No</td>\n",
              "      <td>Mailed check</td>\n",
              "      <td>80.85</td>\n",
              "      <td>2848.918910</td>\n",
              "    </tr>\n",
              "    <tr>\n",
              "      <th>4367-NUYAO</th>\n",
              "      <td>Male</td>\n",
              "      <td>0</td>\n",
              "      <td>Yes</td>\n",
              "      <td>Yes</td>\n",
              "      <td>0</td>\n",
              "      <td>Yes</td>\n",
              "      <td>Yes</td>\n",
              "      <td>No</td>\n",
              "      <td>No internet service</td>\n",
              "      <td>No internet service</td>\n",
              "      <td>No internet service</td>\n",
              "      <td>No internet service</td>\n",
              "      <td>No internet service</td>\n",
              "      <td>No internet service</td>\n",
              "      <td>Two year</td>\n",
              "      <td>No</td>\n",
              "      <td>Mailed check</td>\n",
              "      <td>25.75</td>\n",
              "      <td>907.355126</td>\n",
              "    </tr>\n",
              "    <tr>\n",
              "      <th>1371-DWPAZ</th>\n",
              "      <td>Female</td>\n",
              "      <td>0</td>\n",
              "      <td>Yes</td>\n",
              "      <td>Yes</td>\n",
              "      <td>0</td>\n",
              "      <td>No</td>\n",
              "      <td>No phone service</td>\n",
              "      <td>DSL</td>\n",
              "      <td>Yes</td>\n",
              "      <td>Yes</td>\n",
              "      <td>Yes</td>\n",
              "      <td>Yes</td>\n",
              "      <td>Yes</td>\n",
              "      <td>No</td>\n",
              "      <td>Two year</td>\n",
              "      <td>No</td>\n",
              "      <td>Credit card (automatic)</td>\n",
              "      <td>56.05</td>\n",
              "      <td>1975.039022</td>\n",
              "    </tr>\n",
              "    <tr>\n",
              "      <th>7644-OMVMY</th>\n",
              "      <td>Male</td>\n",
              "      <td>0</td>\n",
              "      <td>Yes</td>\n",
              "      <td>Yes</td>\n",
              "      <td>0</td>\n",
              "      <td>Yes</td>\n",
              "      <td>No</td>\n",
              "      <td>No</td>\n",
              "      <td>No internet service</td>\n",
              "      <td>No internet service</td>\n",
              "      <td>No internet service</td>\n",
              "      <td>No internet service</td>\n",
              "      <td>No internet service</td>\n",
              "      <td>No internet service</td>\n",
              "      <td>Two year</td>\n",
              "      <td>No</td>\n",
              "      <td>Mailed check</td>\n",
              "      <td>19.85</td>\n",
              "      <td>699.456282</td>\n",
              "    </tr>\n",
              "    <tr>\n",
              "      <th>3213-VVOLG</th>\n",
              "      <td>Male</td>\n",
              "      <td>0</td>\n",
              "      <td>Yes</td>\n",
              "      <td>Yes</td>\n",
              "      <td>0</td>\n",
              "      <td>Yes</td>\n",
              "      <td>Yes</td>\n",
              "      <td>No</td>\n",
              "      <td>No internet service</td>\n",
              "      <td>No internet service</td>\n",
              "      <td>No internet service</td>\n",
              "      <td>No internet service</td>\n",
              "      <td>No internet service</td>\n",
              "      <td>No internet service</td>\n",
              "      <td>Two year</td>\n",
              "      <td>No</td>\n",
              "      <td>Mailed check</td>\n",
              "      <td>25.35</td>\n",
              "      <td>893.260289</td>\n",
              "    </tr>\n",
              "    <tr>\n",
              "      <th>2520-SGTTA</th>\n",
              "      <td>Female</td>\n",
              "      <td>0</td>\n",
              "      <td>Yes</td>\n",
              "      <td>Yes</td>\n",
              "      <td>0</td>\n",
              "      <td>Yes</td>\n",
              "      <td>No</td>\n",
              "      <td>No</td>\n",
              "      <td>No internet service</td>\n",
              "      <td>No internet service</td>\n",
              "      <td>No internet service</td>\n",
              "      <td>No internet service</td>\n",
              "      <td>No internet service</td>\n",
              "      <td>No internet service</td>\n",
              "      <td>Two year</td>\n",
              "      <td>No</td>\n",
              "      <td>Mailed check</td>\n",
              "      <td>20.00</td>\n",
              "      <td>704.741845</td>\n",
              "    </tr>\n",
              "    <tr>\n",
              "      <th>2923-ARZLG</th>\n",
              "      <td>Male</td>\n",
              "      <td>0</td>\n",
              "      <td>Yes</td>\n",
              "      <td>Yes</td>\n",
              "      <td>0</td>\n",
              "      <td>Yes</td>\n",
              "      <td>No</td>\n",
              "      <td>No</td>\n",
              "      <td>No internet service</td>\n",
              "      <td>No internet service</td>\n",
              "      <td>No internet service</td>\n",
              "      <td>No internet service</td>\n",
              "      <td>No internet service</td>\n",
              "      <td>No internet service</td>\n",
              "      <td>One year</td>\n",
              "      <td>Yes</td>\n",
              "      <td>Mailed check</td>\n",
              "      <td>19.70</td>\n",
              "      <td>694.170718</td>\n",
              "    </tr>\n",
              "    <tr>\n",
              "      <th>4075-WKNIU</th>\n",
              "      <td>Female</td>\n",
              "      <td>0</td>\n",
              "      <td>Yes</td>\n",
              "      <td>Yes</td>\n",
              "      <td>0</td>\n",
              "      <td>Yes</td>\n",
              "      <td>Yes</td>\n",
              "      <td>DSL</td>\n",
              "      <td>No</td>\n",
              "      <td>Yes</td>\n",
              "      <td>Yes</td>\n",
              "      <td>Yes</td>\n",
              "      <td>Yes</td>\n",
              "      <td>No</td>\n",
              "      <td>Two year</td>\n",
              "      <td>No</td>\n",
              "      <td>Mailed check</td>\n",
              "      <td>73.35</td>\n",
              "      <td>2584.640718</td>\n",
              "    </tr>\n",
              "    <tr>\n",
              "      <th>2775-SEFEE</th>\n",
              "      <td>Male</td>\n",
              "      <td>0</td>\n",
              "      <td>No</td>\n",
              "      <td>Yes</td>\n",
              "      <td>0</td>\n",
              "      <td>Yes</td>\n",
              "      <td>Yes</td>\n",
              "      <td>DSL</td>\n",
              "      <td>Yes</td>\n",
              "      <td>Yes</td>\n",
              "      <td>No</td>\n",
              "      <td>Yes</td>\n",
              "      <td>No</td>\n",
              "      <td>No</td>\n",
              "      <td>Two year</td>\n",
              "      <td>Yes</td>\n",
              "      <td>Bank transfer (automatic)</td>\n",
              "      <td>61.90</td>\n",
              "      <td>2181.176011</td>\n",
              "    </tr>\n",
              "  </tbody>\n",
              "</table>\n",
              "</div>\n",
              "      <button class=\"colab-df-convert\" onclick=\"convertToInteractive('df-4ec29e2f-bce6-4708-9d53-582f8506be39')\"\n",
              "              title=\"Convert this dataframe to an interactive table.\"\n",
              "              style=\"display:none;\">\n",
              "        \n",
              "  <svg xmlns=\"http://www.w3.org/2000/svg\" height=\"24px\"viewBox=\"0 0 24 24\"\n",
              "       width=\"24px\">\n",
              "    <path d=\"M0 0h24v24H0V0z\" fill=\"none\"/>\n",
              "    <path d=\"M18.56 5.44l.94 2.06.94-2.06 2.06-.94-2.06-.94-.94-2.06-.94 2.06-2.06.94zm-11 1L8.5 8.5l.94-2.06 2.06-.94-2.06-.94L8.5 2.5l-.94 2.06-2.06.94zm10 10l.94 2.06.94-2.06 2.06-.94-2.06-.94-.94-2.06-.94 2.06-2.06.94z\"/><path d=\"M17.41 7.96l-1.37-1.37c-.4-.4-.92-.59-1.43-.59-.52 0-1.04.2-1.43.59L10.3 9.45l-7.72 7.72c-.78.78-.78 2.05 0 2.83L4 21.41c.39.39.9.59 1.41.59.51 0 1.02-.2 1.41-.59l7.78-7.78 2.81-2.81c.8-.78.8-2.07 0-2.86zM5.41 20L4 18.59l7.72-7.72 1.47 1.35L5.41 20z\"/>\n",
              "  </svg>\n",
              "      </button>\n",
              "      \n",
              "  <style>\n",
              "    .colab-df-container {\n",
              "      display:flex;\n",
              "      flex-wrap:wrap;\n",
              "      gap: 12px;\n",
              "    }\n",
              "\n",
              "    .colab-df-convert {\n",
              "      background-color: #E8F0FE;\n",
              "      border: none;\n",
              "      border-radius: 50%;\n",
              "      cursor: pointer;\n",
              "      display: none;\n",
              "      fill: #1967D2;\n",
              "      height: 32px;\n",
              "      padding: 0 0 0 0;\n",
              "      width: 32px;\n",
              "    }\n",
              "\n",
              "    .colab-df-convert:hover {\n",
              "      background-color: #E2EBFA;\n",
              "      box-shadow: 0px 1px 2px rgba(60, 64, 67, 0.3), 0px 1px 3px 1px rgba(60, 64, 67, 0.15);\n",
              "      fill: #174EA6;\n",
              "    }\n",
              "\n",
              "    [theme=dark] .colab-df-convert {\n",
              "      background-color: #3B4455;\n",
              "      fill: #D2E3FC;\n",
              "    }\n",
              "\n",
              "    [theme=dark] .colab-df-convert:hover {\n",
              "      background-color: #434B5C;\n",
              "      box-shadow: 0px 1px 3px 1px rgba(0, 0, 0, 0.15);\n",
              "      filter: drop-shadow(0px 1px 2px rgba(0, 0, 0, 0.3));\n",
              "      fill: #FFFFFF;\n",
              "    }\n",
              "  </style>\n",
              "\n",
              "      <script>\n",
              "        const buttonEl =\n",
              "          document.querySelector('#df-4ec29e2f-bce6-4708-9d53-582f8506be39 button.colab-df-convert');\n",
              "        buttonEl.style.display =\n",
              "          google.colab.kernel.accessAllowed ? 'block' : 'none';\n",
              "\n",
              "        async function convertToInteractive(key) {\n",
              "          const element = document.querySelector('#df-4ec29e2f-bce6-4708-9d53-582f8506be39');\n",
              "          const dataTable =\n",
              "            await google.colab.kernel.invokeFunction('convertToInteractive',\n",
              "                                                     [key], {});\n",
              "          if (!dataTable) return;\n",
              "\n",
              "          const docLinkHtml = 'Like what you see? Visit the ' +\n",
              "            '<a target=\"_blank\" href=https://colab.research.google.com/notebooks/data_table.ipynb>data table notebook</a>'\n",
              "            + ' to learn more about interactive tables.';\n",
              "          element.innerHTML = '';\n",
              "          dataTable['output_type'] = 'display_data';\n",
              "          await google.colab.output.renderOutput(dataTable, element);\n",
              "          const docLink = document.createElement('div');\n",
              "          docLink.innerHTML = docLinkHtml;\n",
              "          element.appendChild(docLink);\n",
              "        }\n",
              "      </script>\n",
              "    </div>\n",
              "  </div>\n",
              "  "
            ]
          },
          "metadata": {},
          "execution_count": 18
        }
      ]
    },
    {
      "cell_type": "code",
      "source": [
        "data[[\"SeniorCitizen\",\"tenure\"]].describe()"
      ],
      "metadata": {
        "colab": {
          "base_uri": "https://localhost:8080/",
          "height": 300
        },
        "id": "yuuEPv9v72uu",
        "outputId": "398c3c2c-8219-4021-fe09-58512f92c0df"
      },
      "execution_count": null,
      "outputs": [
        {
          "output_type": "execute_result",
          "data": {
            "text/plain": [
              "       SeniorCitizen       tenure\n",
              "count    7043.000000  7043.000000\n",
              "mean        0.162147    32.371149\n",
              "std         0.368612    24.559481\n",
              "min         0.000000     0.000000\n",
              "25%         0.000000     9.000000\n",
              "50%         0.000000    29.000000\n",
              "75%         0.000000    55.000000\n",
              "max         1.000000    72.000000"
            ],
            "text/html": [
              "\n",
              "  <div id=\"df-fa29e577-9a5c-49c6-9112-f08766a74ef7\">\n",
              "    <div class=\"colab-df-container\">\n",
              "      <div>\n",
              "<style scoped>\n",
              "    .dataframe tbody tr th:only-of-type {\n",
              "        vertical-align: middle;\n",
              "    }\n",
              "\n",
              "    .dataframe tbody tr th {\n",
              "        vertical-align: top;\n",
              "    }\n",
              "\n",
              "    .dataframe thead th {\n",
              "        text-align: right;\n",
              "    }\n",
              "</style>\n",
              "<table border=\"1\" class=\"dataframe\">\n",
              "  <thead>\n",
              "    <tr style=\"text-align: right;\">\n",
              "      <th></th>\n",
              "      <th>SeniorCitizen</th>\n",
              "      <th>tenure</th>\n",
              "    </tr>\n",
              "  </thead>\n",
              "  <tbody>\n",
              "    <tr>\n",
              "      <th>count</th>\n",
              "      <td>7043.000000</td>\n",
              "      <td>7043.000000</td>\n",
              "    </tr>\n",
              "    <tr>\n",
              "      <th>mean</th>\n",
              "      <td>0.162147</td>\n",
              "      <td>32.371149</td>\n",
              "    </tr>\n",
              "    <tr>\n",
              "      <th>std</th>\n",
              "      <td>0.368612</td>\n",
              "      <td>24.559481</td>\n",
              "    </tr>\n",
              "    <tr>\n",
              "      <th>min</th>\n",
              "      <td>0.000000</td>\n",
              "      <td>0.000000</td>\n",
              "    </tr>\n",
              "    <tr>\n",
              "      <th>25%</th>\n",
              "      <td>0.000000</td>\n",
              "      <td>9.000000</td>\n",
              "    </tr>\n",
              "    <tr>\n",
              "      <th>50%</th>\n",
              "      <td>0.000000</td>\n",
              "      <td>29.000000</td>\n",
              "    </tr>\n",
              "    <tr>\n",
              "      <th>75%</th>\n",
              "      <td>0.000000</td>\n",
              "      <td>55.000000</td>\n",
              "    </tr>\n",
              "    <tr>\n",
              "      <th>max</th>\n",
              "      <td>1.000000</td>\n",
              "      <td>72.000000</td>\n",
              "    </tr>\n",
              "  </tbody>\n",
              "</table>\n",
              "</div>\n",
              "      <button class=\"colab-df-convert\" onclick=\"convertToInteractive('df-fa29e577-9a5c-49c6-9112-f08766a74ef7')\"\n",
              "              title=\"Convert this dataframe to an interactive table.\"\n",
              "              style=\"display:none;\">\n",
              "        \n",
              "  <svg xmlns=\"http://www.w3.org/2000/svg\" height=\"24px\"viewBox=\"0 0 24 24\"\n",
              "       width=\"24px\">\n",
              "    <path d=\"M0 0h24v24H0V0z\" fill=\"none\"/>\n",
              "    <path d=\"M18.56 5.44l.94 2.06.94-2.06 2.06-.94-2.06-.94-.94-2.06-.94 2.06-2.06.94zm-11 1L8.5 8.5l.94-2.06 2.06-.94-2.06-.94L8.5 2.5l-.94 2.06-2.06.94zm10 10l.94 2.06.94-2.06 2.06-.94-2.06-.94-.94-2.06-.94 2.06-2.06.94z\"/><path d=\"M17.41 7.96l-1.37-1.37c-.4-.4-.92-.59-1.43-.59-.52 0-1.04.2-1.43.59L10.3 9.45l-7.72 7.72c-.78.78-.78 2.05 0 2.83L4 21.41c.39.39.9.59 1.41.59.51 0 1.02-.2 1.41-.59l7.78-7.78 2.81-2.81c.8-.78.8-2.07 0-2.86zM5.41 20L4 18.59l7.72-7.72 1.47 1.35L5.41 20z\"/>\n",
              "  </svg>\n",
              "      </button>\n",
              "      \n",
              "  <style>\n",
              "    .colab-df-container {\n",
              "      display:flex;\n",
              "      flex-wrap:wrap;\n",
              "      gap: 12px;\n",
              "    }\n",
              "\n",
              "    .colab-df-convert {\n",
              "      background-color: #E8F0FE;\n",
              "      border: none;\n",
              "      border-radius: 50%;\n",
              "      cursor: pointer;\n",
              "      display: none;\n",
              "      fill: #1967D2;\n",
              "      height: 32px;\n",
              "      padding: 0 0 0 0;\n",
              "      width: 32px;\n",
              "    }\n",
              "\n",
              "    .colab-df-convert:hover {\n",
              "      background-color: #E2EBFA;\n",
              "      box-shadow: 0px 1px 2px rgba(60, 64, 67, 0.3), 0px 1px 3px 1px rgba(60, 64, 67, 0.15);\n",
              "      fill: #174EA6;\n",
              "    }\n",
              "\n",
              "    [theme=dark] .colab-df-convert {\n",
              "      background-color: #3B4455;\n",
              "      fill: #D2E3FC;\n",
              "    }\n",
              "\n",
              "    [theme=dark] .colab-df-convert:hover {\n",
              "      background-color: #434B5C;\n",
              "      box-shadow: 0px 1px 3px 1px rgba(0, 0, 0, 0.15);\n",
              "      filter: drop-shadow(0px 1px 2px rgba(0, 0, 0, 0.3));\n",
              "      fill: #FFFFFF;\n",
              "    }\n",
              "  </style>\n",
              "\n",
              "      <script>\n",
              "        const buttonEl =\n",
              "          document.querySelector('#df-fa29e577-9a5c-49c6-9112-f08766a74ef7 button.colab-df-convert');\n",
              "        buttonEl.style.display =\n",
              "          google.colab.kernel.accessAllowed ? 'block' : 'none';\n",
              "\n",
              "        async function convertToInteractive(key) {\n",
              "          const element = document.querySelector('#df-fa29e577-9a5c-49c6-9112-f08766a74ef7');\n",
              "          const dataTable =\n",
              "            await google.colab.kernel.invokeFunction('convertToInteractive',\n",
              "                                                     [key], {});\n",
              "          if (!dataTable) return;\n",
              "\n",
              "          const docLinkHtml = 'Like what you see? Visit the ' +\n",
              "            '<a target=\"_blank\" href=https://colab.research.google.com/notebooks/data_table.ipynb>data table notebook</a>'\n",
              "            + ' to learn more about interactive tables.';\n",
              "          element.innerHTML = '';\n",
              "          dataTable['output_type'] = 'display_data';\n",
              "          await google.colab.output.renderOutput(dataTable, element);\n",
              "          const docLink = document.createElement('div');\n",
              "          docLink.innerHTML = docLinkHtml;\n",
              "          element.appendChild(docLink);\n",
              "        }\n",
              "      </script>\n",
              "    </div>\n",
              "  </div>\n",
              "  "
            ]
          },
          "metadata": {},
          "execution_count": 19
        }
      ]
    },
    {
      "cell_type": "code",
      "source": [
        "# la variable SeniorCitizen est binaire on va le transformer en object\n",
        "data[\"SeniorCitizen\"]=data[\"SeniorCitizen\"].astype(\"object\")"
      ],
      "metadata": {
        "id": "adwEiEvz-p0q"
      },
      "execution_count": null,
      "outputs": []
    },
    {
      "cell_type": "code",
      "source": [
        "data[\"SeniorCitizen\"].value_counts()"
      ],
      "metadata": {
        "colab": {
          "base_uri": "https://localhost:8080/"
        },
        "id": "P--fhSNW_JZ2",
        "outputId": "6012e28e-e5d2-45a5-ba18-02dc412852a1"
      },
      "execution_count": null,
      "outputs": [
        {
          "output_type": "execute_result",
          "data": {
            "text/plain": [
              "0    5901\n",
              "1    1142\n",
              "Name: SeniorCitizen, dtype: int64"
            ]
          },
          "metadata": {},
          "execution_count": 21
        }
      ]
    },
    {
      "cell_type": "code",
      "source": [
        "# TRANSFORMONS  MONTANT MENS / TOTAL\n",
        "data[\"ratio\"]=data[\"MonthlyCharges\"]/data[\"TotalCharges\"]"
      ],
      "metadata": {
        "id": "CmpV5aU1m9H1"
      },
      "execution_count": null,
      "outputs": []
    },
    {
      "cell_type": "code",
      "source": [
        "data.drop(columns=[\"MonthlyCharges\",\"TotalCharges\"],inplace=True)"
      ],
      "metadata": {
        "id": "rzlHRyyUnYoy"
      },
      "execution_count": null,
      "outputs": []
    },
    {
      "cell_type": "markdown",
      "source": [
        "## DATA VIZ"
      ],
      "metadata": {
        "id": "I8kJoUsJTzbL"
      }
    },
    {
      "cell_type": "code",
      "source": [
        "plt.barh(data[\"SeniorCitizen\"], data[\"tenure\"], color =  'red')   # Horizontal Bars, you can also play around the color, height and the width\n",
        "plt.show()"
      ],
      "metadata": {
        "colab": {
          "base_uri": "https://localhost:8080/",
          "height": 265
        },
        "id": "5SdkXRjWT359",
        "outputId": "fec78d22-aeb4-4614-edf0-ec0c794e9399"
      },
      "execution_count": null,
      "outputs": [
        {
          "output_type": "display_data",
          "data": {
            "text/plain": [
              "<Figure size 432x288 with 1 Axes>"
            ],
            "image/png": "[encoded data removed]"
          },
          "metadata": {
            "needs_background": "light"
          }
        }
      ]
    },
    {
      "cell_type": "markdown",
      "source": [],
      "metadata": {
        "id": "xh3GLtk9TzXm"
      }
    },
    {
      "cell_type": "markdown",
      "source": [
        "# MODELISATION"
      ],
      "metadata": {
        "id": "0YFpiWOVBSNz"
      }
    },
    {
      "cell_type": "code",
      "source": [
        "\n",
        "\n",
        "from sklearn.compose import make_column_selector as selector\n",
        "\n",
        "numerical_columns_selector = selector(dtype_exclude=object)\n",
        "categorical_columns_selector = selector(dtype_include=object)\n",
        "\n",
        "numerical_columns = numerical_columns_selector(data)\n",
        "categorical_columns = categorical_columns_selector(data)\n",
        "\n"
      ],
      "metadata": {
        "id": "eADKiZY_BRiq"
      },
      "execution_count": null,
      "outputs": []
    },
    {
      "cell_type": "code",
      "source": [
        "numerical_columns"
      ],
      "metadata": {
        "colab": {
          "base_uri": "https://localhost:8080/"
        },
        "id": "wxpoL1PYBZgq",
        "outputId": "a0d7ce71-ad30-427b-db2d-c9057ebc2f9b"
      },
      "execution_count": null,
      "outputs": [
        {
          "output_type": "execute_result",
          "data": {
            "text/plain": [
              "['tenure', 'ratio']"
            ]
          },
          "metadata": {},
          "execution_count": 26
        }
      ]
    },
    {
      "cell_type": "code",
      "source": [
        "categorical_columns"
      ],
      "metadata": {
        "colab": {
          "base_uri": "https://localhost:8080/"
        },
        "id": "c8UO6to-BcwB",
        "outputId": "6fecea58-f354-4a73-8079-ae4972c3c85d"
      },
      "execution_count": null,
      "outputs": [
        {
          "output_type": "execute_result",
          "data": {
            "text/plain": [
              "['gender',\n",
              " 'SeniorCitizen',\n",
              " 'Partner',\n",
              " 'Dependents',\n",
              " 'PhoneService',\n",
              " 'MultipleLines',\n",
              " 'InternetService',\n",
              " 'OnlineSecurity',\n",
              " 'OnlineBackup',\n",
              " 'DeviceProtection',\n",
              " 'TechSupport',\n",
              " 'StreamingTV',\n",
              " 'StreamingMovies',\n",
              " 'Contract',\n",
              " 'PaperlessBilling',\n",
              " 'PaymentMethod']"
            ]
          },
          "metadata": {},
          "execution_count": 27
        }
      ]
    },
    {
      "cell_type": "code",
      "source": [
        "from sklearn.preprocessing import OneHotEncoder, StandardScaler\n",
        "from sklearn.impute import SimpleImputer\n",
        "\n",
        "categorical_preprocessor = OneHotEncoder(handle_unknown=\"ignore\")\n",
        "numerical_preprocessor = StandardScaler()"
      ],
      "metadata": {
        "id": "5LiysoHOBg3S"
      },
      "execution_count": null,
      "outputs": []
    },
    {
      "cell_type": "code",
      "source": [
        "from sklearn.compose import ColumnTransformer\n",
        "\n",
        "preprocessor = ColumnTransformer([\n",
        "    ('one-hot-encoder', categorical_preprocessor, categorical_columns),\n",
        "    ('standard_scaler', numerical_preprocessor, numerical_columns)])"
      ],
      "metadata": {
        "id": "Bgvte-YeBp5t"
      },
      "execution_count": null,
      "outputs": []
    },
    {
      "cell_type": "code",
      "source": [
        "from sklearn.linear_model import LogisticRegression\n",
        "from sklearn.pipeline import make_pipeline\n",
        "\n",
        "model = make_pipeline(preprocessor, LogisticRegression(max_iter=500))"
      ],
      "metadata": {
        "id": "yVOKaIn1BxIi"
      },
      "execution_count": null,
      "outputs": []
    },
    {
      "cell_type": "code",
      "source": [
        "from sklearn import set_config\n",
        "set_config(display='diagram')\n",
        "model\n",
        "\n"
      ],
      "metadata": {
        "colab": {
          "base_uri": "https://localhost:8080/",
          "height": 189
        },
        "id": "lP6jk64OBykU",
        "outputId": "e0850366-db27-40f2-870f-60f8c42f7c12"
      },
      "execution_count": null,
      "outputs": [
        {
          "output_type": "execute_result",
          "data": {
            "text/plain": [
              "Pipeline(steps=[('columntransformer',\n",
              "                 ColumnTransformer(transformers=[('one-hot-encoder',\n",
              "                                                  OneHotEncoder(handle_unknown='ignore'),\n",
              "                                                  ['gender', 'SeniorCitizen',\n",
              "                                                   'Partner', 'Dependents',\n",
              "                                                   'PhoneService',\n",
              "                                                   'MultipleLines',\n",
              "                                                   'InternetService',\n",
              "                                                   'OnlineSecurity',\n",
              "                                                   'OnlineBackup',\n",
              "                                                   'DeviceProtection',\n",
              "                                                   'TechSupport', 'StreamingTV',\n",
              "                                                   'StreamingMovies',\n",
              "                                                   'Contract',\n",
              "                                                   'PaperlessBilling',\n",
              "                                                   'PaymentMethod']),\n",
              "                                                 ('standard_scaler',\n",
              "                                                  StandardScaler(),\n",
              "                                                  ['tenure', 'ratio'])])),\n",
              "                ('logisticregression', LogisticRegression(max_iter=500))])"
            ],
            "text/html": [
              "<style>#sk-e3d60b6a-62d4-4c40-a83a-adaf6497bbe5 {color: black;background-color: white;}#sk-e3d60b6a-62d4-4c40-a83a-adaf6497bbe5 pre{padding: 0;}#sk-e3d60b6a-62d4-4c40-a83a-adaf6497bbe5 div.sk-toggleable {background-color: white;}#sk-e3d60b6a-62d4-4c40-a83a-adaf6497bbe5 label.sk-toggleable__label {cursor: pointer;display: block;width: 100%;margin-bottom: 0;padding: 0.3em;box-sizing: border-box;text-align: center;}#sk-e3d60b6a-62d4-4c40-a83a-adaf6497bbe5 label.sk-toggleable__label-arrow:before {content: \"▸\";float: left;margin-right: 0.25em;color: #696969;}#sk-e3d60b6a-62d4-4c40-a83a-adaf6497bbe5 label.sk-toggleable__label-arrow:hover:before {color: black;}#sk-e3d60b6a-62d4-4c40-a83a-adaf6497bbe5 div.sk-estimator:hover label.sk-toggleable__label-arrow:before {color: black;}#sk-e3d60b6a-62d4-4c40-a83a-adaf6497bbe5 div.sk-toggleable__content {max-height: 0;max-width: 0;overflow: hidden;text-align: left;background-color: #f0f8ff;}#sk-e3d60b6a-62d4-4c40-a83a-adaf6497bbe5 div.sk-toggleable__content pre {margin: 0.2em;color: black;border-radius: 0.25em;background-color: #f0f8ff;}#sk-e3d60b6a-62d4-4c40-a83a-adaf6497bbe5 input.sk-toggleable__control:checked~div.sk-toggleable__content {max-height: 200px;max-width: 100%;overflow: auto;}#sk-e3d60b6a-62d4-4c40-a83a-adaf6497bbe5 input.sk-toggleable__control:checked~label.sk-toggleable__label-arrow:before {content: \"▾\";}#sk-e3d60b6a-62d4-4c40-a83a-adaf6497bbe5 div.sk-estimator input.sk-toggleable__control:checked~label.sk-toggleable__label {background-color: #d4ebff;}#sk-e3d60b6a-62d4-4c40-a83a-adaf6497bbe5 div.sk-label input.sk-toggleable__control:checked~label.sk-toggleable__label {background-color: #d4ebff;}#sk-e3d60b6a-62d4-4c40-a83a-adaf6497bbe5 input.sk-hidden--visually {border: 0;clip: rect(1px 1px 1px 1px);clip: rect(1px, 1px, 1px, 1px);height: 1px;margin: -1px;overflow: hidden;padding: 0;position: absolute;width: 1px;}#sk-e3d60b6a-62d4-4c40-a83a-adaf6497bbe5 div.sk-estimator {font-family: monospace;background-color: #f0f8ff;border: 1px dotted black;border-radius: 0.25em;box-sizing: border-box;margin-bottom: 0.5em;}#sk-e3d60b6a-62d4-4c40-a83a-adaf6497bbe5 div.sk-estimator:hover {background-color: #d4ebff;}#sk-e3d60b6a-62d4-4c40-a83a-adaf6497bbe5 div.sk-parallel-item::after {content: \"\";width: 100%;border-bottom: 1px solid gray;flex-grow: 1;}#sk-e3d60b6a-62d4-4c40-a83a-adaf6497bbe5 div.sk-label:hover label.sk-toggleable__label {background-color: #d4ebff;}#sk-e3d60b6a-62d4-4c40-a83a-adaf6497bbe5 div.sk-serial::before {content: \"\";position: absolute;border-left: 1px solid gray;box-sizing: border-box;top: 2em;bottom: 0;left: 50%;}#sk-e3d60b6a-62d4-4c40-a83a-adaf6497bbe5 div.sk-serial {display: flex;flex-direction: column;align-items: center;background-color: white;padding-right: 0.2em;padding-left: 0.2em;}#sk-e3d60b6a-62d4-4c40-a83a-adaf6497bbe5 div.sk-item {z-index: 1;}#sk-e3d60b6a-62d4-4c40-a83a-adaf6497bbe5 div.sk-parallel {display: flex;align-items: stretch;justify-content: center;background-color: white;}#sk-e3d60b6a-62d4-4c40-a83a-adaf6497bbe5 div.sk-parallel::before {content: \"\";position: absolute;border-left: 1px solid gray;box-sizing: border-box;top: 2em;bottom: 0;left: 50%;}#sk-e3d60b6a-62d4-4c40-a83a-adaf6497bbe5 div.sk-parallel-item {display: flex;flex-direction: column;position: relative;background-color: white;}#sk-e3d60b6a-62d4-4c40-a83a-adaf6497bbe5 div.sk-parallel-item:first-child::after {align-self: flex-end;width: 50%;}#sk-e3d60b6a-62d4-4c40-a83a-adaf6497bbe5 div.sk-parallel-item:last-child::after {align-self: flex-start;width: 50%;}#sk-e3d60b6a-62d4-4c40-a83a-adaf6497bbe5 div.sk-parallel-item:only-child::after {width: 0;}#sk-e3d60b6a-62d4-4c40-a83a-adaf6497bbe5 div.sk-dashed-wrapped {border: 1px dashed gray;margin: 0 0.4em 0.5em 0.4em;box-sizing: border-box;padding-bottom: 0.4em;background-color: white;position: relative;}#sk-e3d60b6a-62d4-4c40-a83a-adaf6497bbe5 div.sk-label label {font-family: monospace;font-weight: bold;background-color: white;display: inline-block;line-height: 1.2em;}#sk-e3d60b6a-62d4-4c40-a83a-adaf6497bbe5 div.sk-label-container {position: relative;z-index: 2;text-align: center;}#sk-e3d60b6a-62d4-4c40-a83a-adaf6497bbe5 div.sk-container {/* jupyter's `normalize.less` sets `[hidden] { display: none; }` but bootstrap.min.css set `[hidden] { display: none !important; }` so we also need the `!important` here to be able to override the default hidden behavior on the sphinx rendered scikit-learn.org. See: https://github.com/scikit-learn/scikit-learn/issues/21755 */display: inline-block !important;position: relative;}#sk-e3d60b6a-62d4-4c40-a83a-adaf6497bbe5 div.sk-text-repr-fallback {display: none;}</style><div id=\"sk-e3d60b6a-62d4-4c40-a83a-adaf6497bbe5\" class=\"sk-top-container\"><div class=\"sk-text-repr-fallback\"><pre>Pipeline(steps=[(&#x27;columntransformer&#x27;,\n",
              "                 ColumnTransformer(transformers=[(&#x27;one-hot-encoder&#x27;,\n",
              "                                                  OneHotEncoder(handle_unknown=&#x27;ignore&#x27;),\n",
              "                                                  [&#x27;gender&#x27;, &#x27;SeniorCitizen&#x27;,\n",
              "                                                   &#x27;Partner&#x27;, &#x27;Dependents&#x27;,\n",
              "                                                   &#x27;PhoneService&#x27;,\n",
              "                                                   &#x27;MultipleLines&#x27;,\n",
              "                                                   &#x27;InternetService&#x27;,\n",
              "                                                   &#x27;OnlineSecurity&#x27;,\n",
              "                                                   &#x27;OnlineBackup&#x27;,\n",
              "                                                   &#x27;DeviceProtection&#x27;,\n",
              "                                                   &#x27;TechSupport&#x27;, &#x27;StreamingTV&#x27;,\n",
              "                                                   &#x27;StreamingMovies&#x27;,\n",
              "                                                   &#x27;Contract&#x27;,\n",
              "                                                   &#x27;PaperlessBilling&#x27;,\n",
              "                                                   &#x27;PaymentMethod&#x27;]),\n",
              "                                                 (&#x27;standard_scaler&#x27;,\n",
              "                                                  StandardScaler(),\n",
              "                                                  [&#x27;tenure&#x27;, &#x27;ratio&#x27;])])),\n",
              "                (&#x27;logisticregression&#x27;, LogisticRegression(max_iter=500))])</pre><b>Please rerun this cell to show the HTML repr or trust the notebook.</b></div><div class=\"sk-container\" hidden><div class=\"sk-item sk-dashed-wrapped\"><div class=\"sk-label-container\"><div class=\"sk-label sk-toggleable\"><input class=\"sk-toggleable__control sk-hidden--visually\" id=\"7c5be85a-9d52-4f6d-a43e-4635d97470b0\" type=\"checkbox\" ><label for=\"7c5be85a-9d52-4f6d-a43e-4635d97470b0\" class=\"sk-toggleable__label sk-toggleable__label-arrow\">Pipeline</label><div class=\"sk-toggleable__content\"><pre>Pipeline(steps=[(&#x27;columntransformer&#x27;,\n",
              "                 ColumnTransformer(transformers=[(&#x27;one-hot-encoder&#x27;,\n",
              "                                                  OneHotEncoder(handle_unknown=&#x27;ignore&#x27;),\n",
              "                                                  [&#x27;gender&#x27;, &#x27;SeniorCitizen&#x27;,\n",
              "                                                   &#x27;Partner&#x27;, &#x27;Dependents&#x27;,\n",
              "                                                   &#x27;PhoneService&#x27;,\n",
              "                                                   &#x27;MultipleLines&#x27;,\n",
              "                                                   &#x27;InternetService&#x27;,\n",
              "                                                   &#x27;OnlineSecurity&#x27;,\n",
              "                                                   &#x27;OnlineBackup&#x27;,\n",
              "                                                   &#x27;DeviceProtection&#x27;,\n",
              "                                                   &#x27;TechSupport&#x27;, &#x27;StreamingTV&#x27;,\n",
              "                                                   &#x27;StreamingMovies&#x27;,\n",
              "                                                   &#x27;Contract&#x27;,\n",
              "                                                   &#x27;PaperlessBilling&#x27;,\n",
              "                                                   &#x27;PaymentMethod&#x27;]),\n",
              "                                                 (&#x27;standard_scaler&#x27;,\n",
              "                                                  StandardScaler(),\n",
              "                                                  [&#x27;tenure&#x27;, &#x27;ratio&#x27;])])),\n",
              "                (&#x27;logisticregression&#x27;, LogisticRegression(max_iter=500))])</pre></div></div></div><div class=\"sk-serial\"><div class=\"sk-item sk-dashed-wrapped\"><div class=\"sk-label-container\"><div class=\"sk-label sk-toggleable\"><input class=\"sk-toggleable__control sk-hidden--visually\" id=\"329c41a4-14d1-4c53-b228-b88f7ed738bb\" type=\"checkbox\" ><label for=\"329c41a4-14d1-4c53-b228-b88f7ed738bb\" class=\"sk-toggleable__label sk-toggleable__label-arrow\">columntransformer: ColumnTransformer</label><div class=\"sk-toggleable__content\"><pre>ColumnTransformer(transformers=[(&#x27;one-hot-encoder&#x27;,\n",
              "                                 OneHotEncoder(handle_unknown=&#x27;ignore&#x27;),\n",
              "                                 [&#x27;gender&#x27;, &#x27;SeniorCitizen&#x27;, &#x27;Partner&#x27;,\n",
              "                                  &#x27;Dependents&#x27;, &#x27;PhoneService&#x27;, &#x27;MultipleLines&#x27;,\n",
              "                                  &#x27;InternetService&#x27;, &#x27;OnlineSecurity&#x27;,\n",
              "                                  &#x27;OnlineBackup&#x27;, &#x27;DeviceProtection&#x27;,\n",
              "                                  &#x27;TechSupport&#x27;, &#x27;StreamingTV&#x27;,\n",
              "                                  &#x27;StreamingMovies&#x27;, &#x27;Contract&#x27;,\n",
              "                                  &#x27;PaperlessBilling&#x27;, &#x27;PaymentMethod&#x27;]),\n",
              "                                (&#x27;standard_scaler&#x27;, StandardScaler(),\n",
              "                                 [&#x27;tenure&#x27;, &#x27;ratio&#x27;])])</pre></div></div></div><div class=\"sk-parallel\"><div class=\"sk-parallel-item\"><div class=\"sk-item\"><div class=\"sk-label-container\"><div class=\"sk-label sk-toggleable\"><input class=\"sk-toggleable__control sk-hidden--visually\" id=\"6f44767b-e1fa-47f3-a023-bb9805cbf9b7\" type=\"checkbox\" ><label for=\"6f44767b-e1fa-47f3-a023-bb9805cbf9b7\" class=\"sk-toggleable__label sk-toggleable__label-arrow\">one-hot-encoder</label><div class=\"sk-toggleable__content\"><pre>[&#x27;gender&#x27;, &#x27;SeniorCitizen&#x27;, &#x27;Partner&#x27;, &#x27;Dependents&#x27;, &#x27;PhoneService&#x27;, &#x27;MultipleLines&#x27;, &#x27;InternetService&#x27;, &#x27;OnlineSecurity&#x27;, &#x27;OnlineBackup&#x27;, &#x27;DeviceProtection&#x27;, &#x27;TechSupport&#x27;, &#x27;StreamingTV&#x27;, &#x27;StreamingMovies&#x27;, &#x27;Contract&#x27;, &#x27;PaperlessBilling&#x27;, &#x27;PaymentMethod&#x27;]</pre></div></div></div><div class=\"sk-serial\"><div class=\"sk-item\"><div class=\"sk-estimator sk-toggleable\"><input class=\"sk-toggleable__control sk-hidden--visually\" id=\"88afee3e-8933-4289-884c-7528e7138ed4\" type=\"checkbox\" ><label for=\"88afee3e-8933-4289-884c-7528e7138ed4\" class=\"sk-toggleable__label sk-toggleable__label-arrow\">OneHotEncoder</label><div class=\"sk-toggleable__content\"><pre>OneHotEncoder(handle_unknown=&#x27;ignore&#x27;)</pre></div></div></div></div></div></div><div class=\"sk-parallel-item\"><div class=\"sk-item\"><div class=\"sk-label-container\"><div class=\"sk-label sk-toggleable\"><input class=\"sk-toggleable__control sk-hidden--visually\" id=\"8fa009f5-7ed1-4a3f-86f9-411ce732c93d\" type=\"checkbox\" ><label for=\"8fa009f5-7ed1-4a3f-86f9-411ce732c93d\" class=\"sk-toggleable__label sk-toggleable__label-arrow\">standard_scaler</label><div class=\"sk-toggleable__content\"><pre>[&#x27;tenure&#x27;, &#x27;ratio&#x27;]</pre></div></div></div><div class=\"sk-serial\"><div class=\"sk-item\"><div class=\"sk-estimator sk-toggleable\"><input class=\"sk-toggleable__control sk-hidden--visually\" id=\"4f9d9b6d-9e85-4d16-a6df-a5ff46c11c19\" type=\"checkbox\" ><label for=\"4f9d9b6d-9e85-4d16-a6df-a5ff46c11c19\" class=\"sk-toggleable__label sk-toggleable__label-arrow\">StandardScaler</label><div class=\"sk-toggleable__content\"><pre>StandardScaler()</pre></div></div></div></div></div></div></div></div><div class=\"sk-item\"><div class=\"sk-estimator sk-toggleable\"><input class=\"sk-toggleable__control sk-hidden--visually\" id=\"545c9ce0-5777-4542-9987-55d5624edf1d\" type=\"checkbox\" ><label for=\"545c9ce0-5777-4542-9987-55d5624edf1d\" class=\"sk-toggleable__label sk-toggleable__label-arrow\">LogisticRegression</label><div class=\"sk-toggleable__content\"><pre>LogisticRegression(max_iter=500)</pre></div></div></div></div></div></div></div>"
            ]
          },
          "metadata": {},
          "execution_count": 31
        }
      ]
    },
    {
      "cell_type": "code",
      "source": [
        "from sklearn.model_selection import train_test_split\n",
        "\n",
        "#X_train, X_test, Y_train, Y_test = train_test_split(data, target, test_size=0.3,random_state=0)\n",
        "\n",
        "X_train, X_test, Y_train, Y_test = train_test_split(\n",
        "    data, target, random_state=42,test_size=0.2,stratify=target)\n",
        "\n"
      ],
      "metadata": {
        "id": "mh16ao9IB_c2"
      },
      "execution_count": null,
      "outputs": []
    },
    {
      "cell_type": "code",
      "source": [
        "_ = model.fit(X_train, Y_train)"
      ],
      "metadata": {
        "id": "sJkhPWWfCDgf"
      },
      "execution_count": null,
      "outputs": []
    },
    {
      "cell_type": "code",
      "source": [
        "model.predict(X_test)[:5]"
      ],
      "metadata": {
        "colab": {
          "base_uri": "https://localhost:8080/"
        },
        "id": "1Zm4eoIKCF6K",
        "outputId": "e549d668-1e53-4329-8082-09a01af8b001"
      },
      "execution_count": null,
      "outputs": [
        {
          "output_type": "execute_result",
          "data": {
            "text/plain": [
              "array(['No', 'Yes', 'No', 'No', 'No'], dtype=object)"
            ]
          },
          "metadata": {},
          "execution_count": 34
        }
      ]
    },
    {
      "cell_type": "code",
      "source": [
        "model.score(X_test, Y_test)"
      ],
      "metadata": {
        "colab": {
          "base_uri": "https://localhost:8080/"
        },
        "id": "o-AgEzLMCSC6",
        "outputId": "1a3ce2b3-7c56-4d3b-ffaa-b87978368774"
      },
      "execution_count": null,
      "outputs": [
        {
          "output_type": "execute_result",
          "data": {
            "text/plain": [
              "0.8161816891412349"
            ]
          },
          "metadata": {},
          "execution_count": 35
        }
      ]
    },
    {
      "cell_type": "code",
      "source": [
        "from sklearn.model_selection import cross_validate\n",
        "\n",
        "cv_results = cross_validate(model, data, target, cv=5)\n",
        "cv_results"
      ],
      "metadata": {
        "colab": {
          "base_uri": "https://localhost:8080/"
        },
        "id": "eimrR4UpCWKk",
        "outputId": "052eee5d-6d6f-4aa1-a848-07cf92659858"
      },
      "execution_count": null,
      "outputs": [
        {
          "output_type": "execute_result",
          "data": {
            "text/plain": [
              "{'fit_time': array([0.16166544, 0.18015289, 0.1581645 , 0.16458583, 0.21346331]),\n",
              " 'score_time': array([0.02499557, 0.02403545, 0.03435397, 0.02674985, 0.02446866]),\n",
              " 'test_score': array([0.80979418, 0.80979418, 0.79701916, 0.81960227, 0.81178977])}"
            ]
          },
          "metadata": {},
          "execution_count": 36
        }
      ]
    },
    {
      "cell_type": "code",
      "source": [
        "scores = cv_results[\"test_score\"]\n",
        "print(\"The mean cross-validation accuracy is: \"\n",
        "      f\"{scores.mean():.3f} +/- {scores.std():.3f}\")"
      ],
      "metadata": {
        "colab": {
          "base_uri": "https://localhost:8080/"
        },
        "id": "1iITUeoACaYT",
        "outputId": "b3af238f-3502-4677-8eca-6eef681787e5"
      },
      "execution_count": null,
      "outputs": [
        {
          "output_type": "stream",
          "name": "stdout",
          "text": [
            "The mean cross-validation accuracy is: 0.810 +/- 0.007\n"
          ]
        }
      ]
    },
    {
      "cell_type": "code",
      "source": [
        "from sklearn.ensemble import HistGradientBoostingClassifier\n",
        "from sklearn.preprocessing import OrdinalEncoder\n",
        "\n",
        "categorical_preprocessor = OrdinalEncoder(handle_unknown=\"use_encoded_value\",\n",
        "                                          unknown_value=-1)\n",
        "\n",
        "preprocessor = ColumnTransformer([\n",
        "    ('categorical', categorical_preprocessor, categorical_columns)],\n",
        "    remainder=\"passthrough\")\n",
        "\n",
        "model = make_pipeline(preprocessor, HistGradientBoostingClassifier())"
      ],
      "metadata": {
        "id": "-tqlu_FBCj16"
      },
      "execution_count": null,
      "outputs": []
    },
    {
      "cell_type": "code",
      "source": [
        "%%time\n",
        "_ = model.fit(X_train, Y_train)\n",
        "\n"
      ],
      "metadata": {
        "colab": {
          "base_uri": "https://localhost:8080/"
        },
        "id": "fZw6qJwIClnz",
        "outputId": "b6dfcb90-1f55-4326-83b3-ffd162782341"
      },
      "execution_count": null,
      "outputs": [
        {
          "output_type": "stream",
          "name": "stdout",
          "text": [
            "CPU times: user 1.05 s, sys: 76.3 ms, total: 1.13 s\n",
            "Wall time: 606 ms\n"
          ]
        }
      ]
    },
    {
      "cell_type": "code",
      "source": [
        "model.score(X_test, Y_test)\n",
        "\n"
      ],
      "metadata": {
        "colab": {
          "base_uri": "https://localhost:8080/"
        },
        "id": "_-G7X5aiCrgX",
        "outputId": "5f16afcc-61b4-4ec5-a0db-6e8f302102fe"
      },
      "execution_count": null,
      "outputs": [
        {
          "output_type": "execute_result",
          "data": {
            "text/plain": [
              "0.7849538679914834"
            ]
          },
          "metadata": {},
          "execution_count": 40
        }
      ]
    },
    {
      "cell_type": "markdown",
      "source": [
        "## TUNING GRIDCHEARCH"
      ],
      "metadata": {
        "id": "jw1YSsFIac8v"
      }
    },
    {
      "cell_type": "code",
      "source": [
        "from sklearn.model_selection import GridSearchCV\n",
        "\n",
        "param_grid = [\n",
        "    {'randomforestclassifier__n_estimators':[10,30,50,40,20,80,120,100,130,23,12]},\n",
        "    {'randomforestclassifier__max_depth':[2,5,7,10,23,10,34,8,3]}, \n",
        "    {'randomforestclassifier__max_features':[2,4,6,7,8,9,3,10]}, \n",
        "    {'randomforestclassifier__min_samples_leaf':[2,5,9,4,6,3]}\n",
        "\n",
        "]\n",
        "\n",
        "#param_grid"
      ],
      "metadata": {
        "id": "uf7GQFSbab_H"
      },
      "execution_count": null,
      "outputs": []
    },
    {
      "cell_type": "code",
      "source": [],
      "metadata": {
        "id": "BTFPH8FFaqP9"
      },
      "execution_count": null,
      "outputs": []
    },
    {
      "cell_type": "code",
      "source": [
        "#mod_rf = RandomForestClassifier()\n",
        "from sklearn.naive_bayes import GaussianNB\n",
        "mode_rf = make_pipeline(preprocessor, RandomForestClassifier())\n",
        "mode_knn = make_pipeline(preprocessor, KNeighborsClassifier())\n",
        "mode_svm = make_pipeline(preprocessor, SVC())\n",
        "mode_log = make_pipeline(preprocessor, LogisticRegression())\n",
        "mode_gnb = make_pipeline(preprocessor,GaussianNB())"
      ],
      "metadata": {
        "id": "ZpJIxFraaiYO"
      },
      "execution_count": null,
      "outputs": []
    },
    {
      "cell_type": "code",
      "source": [
        "#mode_rf.get_params().keys()"
      ],
      "metadata": {
        "id": "-JErUnmRdkJw"
      },
      "execution_count": null,
      "outputs": []
    },
    {
      "cell_type": "code",
      "source": [
        "#mode_rf.get_params"
      ],
      "metadata": {
        "id": "007j7bGpbd2X"
      },
      "execution_count": null,
      "outputs": []
    },
    {
      "cell_type": "code",
      "source": [
        "rf = GridSearchCV(\n",
        "   mode_rf, # modele\n",
        "   param_grid, #parametres \n",
        "   cv=5, # cross validation\n",
        "   verbose=10\n",
        "\n",
        ")\n",
        "#rf.fit(X_train, Y_train)"
      ],
      "metadata": {
        "id": "cEiPXx_rbdny"
      },
      "execution_count": null,
      "outputs": []
    },
    {
      "cell_type": "code",
      "source": [
        "# best model \n",
        "#rf.best_estimator_"
      ],
      "metadata": {
        "id": "ZVId_sP0fPoK"
      },
      "execution_count": null,
      "outputs": []
    },
    {
      "cell_type": "code",
      "source": [
        "# parametres du best model\n",
        "#rf.best_params_"
      ],
      "metadata": {
        "id": "maFJo8v9fegO"
      },
      "execution_count": null,
      "outputs": []
    },
    {
      "cell_type": "code",
      "source": [
        "# best score\n",
        "#rf.best_score_"
      ],
      "metadata": {
        "id": "4ui3vAytfiD9"
      },
      "execution_count": null,
      "outputs": []
    },
    {
      "cell_type": "code",
      "source": [],
      "metadata": {
        "id": "g5rqoSBVfwel"
      },
      "execution_count": null,
      "outputs": []
    },
    {
      "cell_type": "markdown",
      "source": [
        "## choix du meilleurs parmi les meilleurs\n"
      ],
      "metadata": {
        "id": "y2JMAm-Nfq4U"
      }
    },
    {
      "cell_type": "code",
      "source": [
        "classifiers =[]\n",
        "#mode_rf = RandomForestClassifier()\n",
        "classifiers.append(mode_rf)\n",
        "\n",
        "#mode_knn= KNeighborsClassifier()\n",
        "classifiers.append(mode_knn)\n",
        "\n",
        "#mode_log= LogisticRegression()\n",
        "classifiers.append(mode_log)\n",
        "\n",
        "#mode_svm = SVC()\n",
        "classifiers.append(mode_svm)\n",
        "#MODE NGB\n",
        "classifiers.append(mode_gnb)\n",
        "classifiers"
      ],
      "metadata": {
        "id": "HYtSym-7fxH1",
        "colab": {
          "base_uri": "https://localhost:8080/"
        },
        "outputId": "1f58b3b2-38bf-4d7d-b719-56681478270a"
      },
      "execution_count": null,
      "outputs": [
        {
          "output_type": "execute_result",
          "data": {
            "text/plain": [
              "[Pipeline(steps=[('columntransformer',\n",
              "                  ColumnTransformer(remainder='passthrough',\n",
              "                                    transformers=[('categorical',\n",
              "                                                   OrdinalEncoder(handle_unknown='use_encoded_value',\n",
              "                                                                  unknown_value=-1),\n",
              "                                                   ['gender', 'SeniorCitizen',\n",
              "                                                    'Partner', 'Dependents',\n",
              "                                                    'PhoneService',\n",
              "                                                    'MultipleLines',\n",
              "                                                    'InternetService',\n",
              "                                                    'OnlineSecurity',\n",
              "                                                    'OnlineBackup',\n",
              "                                                    'DeviceProtection',\n",
              "                                                    'TechSupport', 'StreamingTV',\n",
              "                                                    'StreamingMovies',\n",
              "                                                    'Contract',\n",
              "                                                    'PaperlessBilling',\n",
              "                                                    'PaymentMethod'])])),\n",
              "                 ('randomforestclassifier', RandomForestClassifier())]),\n",
              " Pipeline(steps=[('columntransformer',\n",
              "                  ColumnTransformer(remainder='passthrough',\n",
              "                                    transformers=[('categorical',\n",
              "                                                   OrdinalEncoder(handle_unknown='use_encoded_value',\n",
              "                                                                  unknown_value=-1),\n",
              "                                                   ['gender', 'SeniorCitizen',\n",
              "                                                    'Partner', 'Dependents',\n",
              "                                                    'PhoneService',\n",
              "                                                    'MultipleLines',\n",
              "                                                    'InternetService',\n",
              "                                                    'OnlineSecurity',\n",
              "                                                    'OnlineBackup',\n",
              "                                                    'DeviceProtection',\n",
              "                                                    'TechSupport', 'StreamingTV',\n",
              "                                                    'StreamingMovies',\n",
              "                                                    'Contract',\n",
              "                                                    'PaperlessBilling',\n",
              "                                                    'PaymentMethod'])])),\n",
              "                 ('kneighborsclassifier', KNeighborsClassifier())]),\n",
              " Pipeline(steps=[('columntransformer',\n",
              "                  ColumnTransformer(remainder='passthrough',\n",
              "                                    transformers=[('categorical',\n",
              "                                                   OrdinalEncoder(handle_unknown='use_encoded_value',\n",
              "                                                                  unknown_value=-1),\n",
              "                                                   ['gender', 'SeniorCitizen',\n",
              "                                                    'Partner', 'Dependents',\n",
              "                                                    'PhoneService',\n",
              "                                                    'MultipleLines',\n",
              "                                                    'InternetService',\n",
              "                                                    'OnlineSecurity',\n",
              "                                                    'OnlineBackup',\n",
              "                                                    'DeviceProtection',\n",
              "                                                    'TechSupport', 'StreamingTV',\n",
              "                                                    'StreamingMovies',\n",
              "                                                    'Contract',\n",
              "                                                    'PaperlessBilling',\n",
              "                                                    'PaymentMethod'])])),\n",
              "                 ('logisticregression', LogisticRegression())]),\n",
              " Pipeline(steps=[('columntransformer',\n",
              "                  ColumnTransformer(remainder='passthrough',\n",
              "                                    transformers=[('categorical',\n",
              "                                                   OrdinalEncoder(handle_unknown='use_encoded_value',\n",
              "                                                                  unknown_value=-1),\n",
              "                                                   ['gender', 'SeniorCitizen',\n",
              "                                                    'Partner', 'Dependents',\n",
              "                                                    'PhoneService',\n",
              "                                                    'MultipleLines',\n",
              "                                                    'InternetService',\n",
              "                                                    'OnlineSecurity',\n",
              "                                                    'OnlineBackup',\n",
              "                                                    'DeviceProtection',\n",
              "                                                    'TechSupport', 'StreamingTV',\n",
              "                                                    'StreamingMovies',\n",
              "                                                    'Contract',\n",
              "                                                    'PaperlessBilling',\n",
              "                                                    'PaymentMethod'])])),\n",
              "                 ('svc', SVC())]),\n",
              " Pipeline(steps=[('columntransformer',\n",
              "                  ColumnTransformer(remainder='passthrough',\n",
              "                                    transformers=[('categorical',\n",
              "                                                   OrdinalEncoder(handle_unknown='use_encoded_value',\n",
              "                                                                  unknown_value=-1),\n",
              "                                                   ['gender', 'SeniorCitizen',\n",
              "                                                    'Partner', 'Dependents',\n",
              "                                                    'PhoneService',\n",
              "                                                    'MultipleLines',\n",
              "                                                    'InternetService',\n",
              "                                                    'OnlineSecurity',\n",
              "                                                    'OnlineBackup',\n",
              "                                                    'DeviceProtection',\n",
              "                                                    'TechSupport', 'StreamingTV',\n",
              "                                                    'StreamingMovies',\n",
              "                                                    'Contract',\n",
              "                                                    'PaperlessBilling',\n",
              "                                                    'PaymentMethod'])])),\n",
              "                 ('gaussiannb', GaussianNB())])]"
            ]
          },
          "metadata": {},
          "execution_count": 49
        }
      ]
    },
    {
      "cell_type": "code",
      "source": [
        "#mode_knn.get_params().keys()"
      ],
      "metadata": {
        "id": "OWqQUrDFheL7"
      },
      "execution_count": null,
      "outputs": []
    },
    {
      "cell_type": "code",
      "source": [
        "# best model pour randomforest\n",
        "param_grid_rf = [\n",
        "    {'randomforestclassifier__n_estimators':[10,30,50,40,20,80,120,100,130,23,12]},\n",
        "    {'randomforestclassifier__max_depth':[2,5,7,10,23,10,34,8,3]}, \n",
        "    {'randomforestclassifier__max_features':[2,4,6,7,8,9,3,10]}, \n",
        "    {'randomforestclassifier__min_samples_leaf':[2,5,9,3,5,6]}\n",
        "\n",
        "]\n",
        "#param_grid_rf"
      ],
      "metadata": {
        "id": "wpsAGym2f3Yk"
      },
      "execution_count": null,
      "outputs": []
    },
    {
      "cell_type": "code",
      "source": [
        "param_grid_knn= [\n",
        "    {'kneighborsclassifier__n_neighbors':[3,5,7,10,15,12,13,16,19,17,11]}\n",
        "]\n",
        "param_grid_knn"
      ],
      "metadata": {
        "colab": {
          "base_uri": "https://localhost:8080/"
        },
        "id": "FYBNRuKzf52W",
        "outputId": "39ffab54-5034-4941-fde2-422019760fd4"
      },
      "execution_count": null,
      "outputs": [
        {
          "output_type": "execute_result",
          "data": {
            "text/plain": [
              "[{'kneighborsclassifier__n_neighbors': [3,\n",
              "   5,\n",
              "   7,\n",
              "   10,\n",
              "   15,\n",
              "   12,\n",
              "   13,\n",
              "   16,\n",
              "   19,\n",
              "   17,\n",
              "   11]}]"
            ]
          },
          "metadata": {},
          "execution_count": 52
        }
      ]
    },
    {
      "cell_type": "code",
      "source": [
        "#mode_log.get_params().keys()"
      ],
      "metadata": {
        "id": "0FJyCQUNiIFq"
      },
      "execution_count": null,
      "outputs": []
    },
    {
      "cell_type": "code",
      "source": [
        "param_grid_log=[\n",
        "    {'logisticregression__max_iter':[400,450,500,550,600,650,700,800,900,1000]}\n",
        "]\n",
        "param_grid_log"
      ],
      "metadata": {
        "colab": {
          "base_uri": "https://localhost:8080/"
        },
        "id": "GvJnFKfvf8_7",
        "outputId": "e935bd8c-e03a-41b8-81ba-948edebe74a0"
      },
      "execution_count": null,
      "outputs": [
        {
          "output_type": "execute_result",
          "data": {
            "text/plain": [
              "[{'logisticregression__max_iter': [400,\n",
              "   450,\n",
              "   500,\n",
              "   550,\n",
              "   600,\n",
              "   650,\n",
              "   700,\n",
              "   800,\n",
              "   900,\n",
              "   1000]}]"
            ]
          },
          "metadata": {},
          "execution_count": 54
        }
      ]
    },
    {
      "cell_type": "code",
      "source": [
        "#mode_svm.get_params().keys()"
      ],
      "metadata": {
        "id": "4WJJ1POUiVlK"
      },
      "execution_count": null,
      "outputs": []
    },
    {
      "cell_type": "code",
      "source": [
        "param_grid_svm=[\n",
        "    {'svc__C':[2,5,9,7,10,20,40,60,100]},\n",
        "    {'svc__kernel':['linear','rbf']},\n",
        "    {'svc__gamma':[0.002,0.6,0.004]}\n",
        "]\n",
        "param_grid_svm"
      ],
      "metadata": {
        "colab": {
          "base_uri": "https://localhost:8080/"
        },
        "id": "AlV58H_2f_sH",
        "outputId": "5320b516-fdbf-4357-96dd-afe4bcb598e5"
      },
      "execution_count": null,
      "outputs": [
        {
          "output_type": "execute_result",
          "data": {
            "text/plain": [
              "[{'svc__C': [2, 5, 9, 7, 10, 20, 40, 60, 100]},\n",
              " {'svc__kernel': ['linear', 'rbf']},\n",
              " {'svc__gamma': [0.002, 0.6, 0.004]}]"
            ]
          },
          "metadata": {},
          "execution_count": 56
        }
      ]
    },
    {
      "cell_type": "code",
      "source": [
        "mode_gnb.get_params().keys()"
      ],
      "metadata": {
        "id": "gxJsK1KizPA7",
        "colab": {
          "base_uri": "https://localhost:8080/"
        },
        "outputId": "fe5f117d-766d-4d0b-8c7e-e65f35e472a9"
      },
      "execution_count": null,
      "outputs": [
        {
          "output_type": "execute_result",
          "data": {
            "text/plain": [
              "dict_keys(['memory', 'steps', 'verbose', 'columntransformer', 'gaussiannb', 'columntransformer__n_jobs', 'columntransformer__remainder', 'columntransformer__sparse_threshold', 'columntransformer__transformer_weights', 'columntransformer__transformers', 'columntransformer__verbose', 'columntransformer__verbose_feature_names_out', 'columntransformer__categorical', 'columntransformer__categorical__categories', 'columntransformer__categorical__dtype', 'columntransformer__categorical__handle_unknown', 'columntransformer__categorical__unknown_value', 'gaussiannb__priors', 'gaussiannb__var_smoothing'])"
            ]
          },
          "metadata": {},
          "execution_count": 57
        }
      ]
    },
    {
      "cell_type": "code",
      "source": [
        "\n",
        "param_grid_NB = {'gaussiannb__var_smoothing': np.logspace(0,-9, num=100)}"
      ],
      "metadata": {
        "id": "f8hlgGHnxkvf"
      },
      "execution_count": null,
      "outputs": []
    },
    {
      "cell_type": "markdown",
      "source": [
        "# pour chaque modele choisir le best model"
      ],
      "metadata": {
        "id": "31uXapQJgHzn"
      }
    },
    {
      "cell_type": "code",
      "source": [
        "#rf = GridSearchCV(mode_rf, param_grid_rf, cv=5, verbose=10)\n",
        "#rf.fit(X_train, Y_train)"
      ],
      "metadata": {
        "id": "UBsWkLpXgC3l"
      },
      "execution_count": null,
      "outputs": []
    },
    {
      "cell_type": "code",
      "source": [
        "#knn = GridSearchCV(mode_knn, param_grid_knn, cv=5, verbose=10)\n",
        "#knn.fit(X_train, Y_train)"
      ],
      "metadata": {
        "id": "567xK1cmkhmS"
      },
      "execution_count": null,
      "outputs": []
    },
    {
      "cell_type": "code",
      "source": [
        "#logis = GridSearchCV(mode_log, param_grid_log, cv=5, verbose=10)\n",
        "#logis.fit(X_train, Y_train)"
      ],
      "metadata": {
        "id": "v4dakM2Vkp0q"
      },
      "execution_count": null,
      "outputs": []
    },
    {
      "cell_type": "code",
      "source": [
        "#svm=GridSearchCV(mode_svm, param_grid_svm, cv=5, verbose=10)\n",
        "#svm.fit(X_train, Y_train)"
      ],
      "metadata": {
        "id": "xCzG6diukwla"
      },
      "execution_count": null,
      "outputs": []
    },
    {
      "cell_type": "code",
      "source": [
        "#gnb=GridSearchCV(mode_gnb, param_grid_NB, cv=5, verbose=10)\n",
        "#gnb.fit(X_train, Y_train)"
      ],
      "metadata": {
        "id": "gn9FyFCPzdXT"
      },
      "execution_count": null,
      "outputs": []
    },
    {
      "cell_type": "code",
      "source": [
        "# best models\n",
        "\"\"\"\n",
        "print('best model random forest: {}'.format(rf.best_estimator_))\n",
        "print('best model KNN: {}'.format(knn.best_estimator_))\n",
        "print('best model logistic: {}'.format(logis.best_estimator_))\n",
        "print('best model SVM: {}'.format(svm.best_estimator_))\n",
        "print('best model GNB: {}'.format(gnb.best_estimator_))\n",
        "\"\"\""
      ],
      "metadata": {
        "colab": {
          "base_uri": "https://localhost:8080/",
          "height": 70
        },
        "id": "_rWGjLKRlcKK",
        "outputId": "69daca8d-f69f-40fa-9abb-41fc207c532e"
      },
      "execution_count": null,
      "outputs": [
        {
          "output_type": "execute_result",
          "data": {
            "text/plain": [
              "\"\\nprint('best model random forest: {}'.format(rf.best_estimator_))\\nprint('best model KNN: {}'.format(knn.best_estimator_))\\nprint('best model logistic: {}'.format(logis.best_estimator_))\\nprint('best model SVM: {}'.format(svm.best_estimator_))\\nprint('best model GNB: {}'.format(gnb.best_estimator_))\\n\""
            ],
            "application/vnd.google.colaboratory.intrinsic+json": {
              "type": "string"
            }
          },
          "metadata": {},
          "execution_count": 64
        }
      ]
    },
    {
      "cell_type": "code",
      "source": [
        "# best scores\n",
        "\"\"\"\n",
        "print('best score random forest: {}'.format(rf.best_score_))\n",
        "print('best score KNN: {}'.format(knn.best_score_))\n",
        "print('best score logistic: {}'.format(logis.best_score_))\n",
        "print('best score SVM: {}'.format(svm.best_score_))\n",
        "print('best score gnb: {}'.format(gnb.best_score_))\n",
        "\"\"\""
      ],
      "metadata": {
        "colab": {
          "base_uri": "https://localhost:8080/",
          "height": 70
        },
        "id": "ndLaxylGliBN",
        "outputId": "efdcd178-7594-4a3f-fa0e-8332f376c31d"
      },
      "execution_count": null,
      "outputs": [
        {
          "output_type": "execute_result",
          "data": {
            "text/plain": [
              "\"\\nprint('best score random forest: {}'.format(rf.best_score_))\\nprint('best score KNN: {}'.format(knn.best_score_))\\nprint('best score logistic: {}'.format(logis.best_score_))\\nprint('best score SVM: {}'.format(svm.best_score_))\\nprint('best score gnb: {}'.format(gnb.best_score_))\\n\""
            ],
            "application/vnd.google.colaboratory.intrinsic+json": {
              "type": "string"
            }
          },
          "metadata": {},
          "execution_count": 65
        }
      ]
    },
    {
      "cell_type": "code",
      "source": [
        "parametres=[]\n",
        "parametres.append(param_grid_rf)\n",
        "parametres.append(param_grid_knn)\n",
        "parametres.append(param_grid_log)\n",
        "parametres.append(param_grid_svm)\n",
        "parametres.append(param_grid_NB)\n",
        "#parametres"
      ],
      "metadata": {
        "id": "W0MIiszAlsnG"
      },
      "execution_count": null,
      "outputs": []
    },
    {
      "cell_type": "code",
      "source": [
        "#classifiers"
      ],
      "metadata": {
        "id": "EeaGqvyKl0FH"
      },
      "execution_count": null,
      "outputs": []
    },
    {
      "cell_type": "code",
      "source": [
        "from sklearn.metrics import balanced_accuracy_score\n",
        "def gridsearch_dit(models, params,train_x, train_y):\n",
        "  model_best=[]\n",
        "  for i in range(len(models)):\n",
        "    model=GridSearchCV(models[i], params[i], cv=5)\n",
        "    model.fit(train_x, train_y)\n",
        "    model_best.append(model.best_estimator_)\n",
        "  return model_best"
      ],
      "metadata": {
        "id": "ftmW8zavlzAM"
      },
      "execution_count": null,
      "outputs": []
    },
    {
      "cell_type": "code",
      "source": [
        "best_model= gridsearch_dit(classifiers, parametres, X_train, Y_train)"
      ],
      "metadata": {
        "id": "Ittc8AmMl2PV"
      },
      "execution_count": null,
      "outputs": []
    },
    {
      "cell_type": "code",
      "source": [
        "#best_model"
      ],
      "metadata": {
        "id": "xzYeH2Afl8C1"
      },
      "execution_count": null,
      "outputs": []
    },
    {
      "cell_type": "code",
      "source": [
        "#best_model[5]"
      ],
      "metadata": {
        "id": "9KcJ4ownmHmx"
      },
      "execution_count": null,
      "outputs": []
    },
    {
      "cell_type": "markdown",
      "source": [
        "## VOTING"
      ],
      "metadata": {
        "id": "hMtDWMgNl_Vd"
      }
    },
    {
      "cell_type": "code",
      "source": [
        "from sklearn.ensemble import VotingClassifier\n",
        "\n",
        "vot_model = VotingClassifier(\n",
        "    estimators=[('rf',best_model[0]), \n",
        "                ('knn',best_model[1]), \n",
        "                ('logis',best_model[2]),\n",
        "                ('nb',best_model[4])], voting='hard'\n",
        "                )\n",
        "\n",
        "vot_model.fit(X_train, Y_train)"
      ],
      "metadata": {
        "colab": {
          "base_uri": "https://localhost:8080/",
          "height": 262
        },
        "id": "UWIfWt2xmNdO",
        "outputId": "1e88b9bd-1945-4c77-b927-4977d51c0854"
      },
      "execution_count": null,
      "outputs": [
        {
          "output_type": "execute_result",
          "data": {
            "text/plain": [
              "VotingClassifier(estimators=[('rf',\n",
              "                              Pipeline(steps=[('columntransformer',\n",
              "                                               ColumnTransformer(remainder='passthrough',\n",
              "                                                                 transformers=[('categorical',\n",
              "                                                                                OrdinalEncoder(handle_unknown='use_encoded_value',\n",
              "                                                                                               unknown_value=-1),\n",
              "                                                                                ['gender',\n",
              "                                                                                 'SeniorCitizen',\n",
              "                                                                                 'Partner',\n",
              "                                                                                 'Dependents',\n",
              "                                                                                 'PhoneService',\n",
              "                                                                                 'MultipleLines',\n",
              "                                                                                 'InternetService',\n",
              "                                                                                 'OnlineSecurity',\n",
              "                                                                                 'OnlineBackup',\n",
              "                                                                                 'DevicePr...\n",
              "                                                                                OrdinalEncoder(handle_unknown='use_encoded_value',\n",
              "                                                                                               unknown_value=-1),\n",
              "                                                                                ['gender',\n",
              "                                                                                 'SeniorCitizen',\n",
              "                                                                                 'Partner',\n",
              "                                                                                 'Dependents',\n",
              "                                                                                 'PhoneService',\n",
              "                                                                                 'MultipleLines',\n",
              "                                                                                 'InternetService',\n",
              "                                                                                 'OnlineSecurity',\n",
              "                                                                                 'OnlineBackup',\n",
              "                                                                                 'DeviceProtection',\n",
              "                                                                                 'TechSupport',\n",
              "                                                                                 'StreamingTV',\n",
              "                                                                                 'StreamingMovies',\n",
              "                                                                                 'Contract',\n",
              "                                                                                 'PaperlessBilling',\n",
              "                                                                                 'PaymentMethod'])])),\n",
              "                                              ('gaussiannb',\n",
              "                                               GaussianNB(var_smoothing=0.01))]))])"
            ],
            "text/html": [
              "<style>#sk-df7f036a-3526-420f-8d42-70f5c376c957 {color: black;background-color: white;}#sk-df7f036a-3526-420f-8d42-70f5c376c957 pre{padding: 0;}#sk-df7f036a-3526-420f-8d42-70f5c376c957 div.sk-toggleable {background-color: white;}#sk-df7f036a-3526-420f-8d42-70f5c376c957 label.sk-toggleable__label {cursor: pointer;display: block;width: 100%;margin-bottom: 0;padding: 0.3em;box-sizing: border-box;text-align: center;}#sk-df7f036a-3526-420f-8d42-70f5c376c957 label.sk-toggleable__label-arrow:before {content: \"▸\";float: left;margin-right: 0.25em;color: #696969;}#sk-df7f036a-3526-420f-8d42-70f5c376c957 label.sk-toggleable__label-arrow:hover:before {color: black;}#sk-df7f036a-3526-420f-8d42-70f5c376c957 div.sk-estimator:hover label.sk-toggleable__label-arrow:before {color: black;}#sk-df7f036a-3526-420f-8d42-70f5c376c957 div.sk-toggleable__content {max-height: 0;max-width: 0;overflow: hidden;text-align: left;background-color: #f0f8ff;}#sk-df7f036a-3526-420f-8d42-70f5c376c957 div.sk-toggleable__content pre {margin: 0.2em;color: black;border-radius: 0.25em;background-color: #f0f8ff;}#sk-df7f036a-3526-420f-8d42-70f5c376c957 input.sk-toggleable__control:checked~div.sk-toggleable__content {max-height: 200px;max-width: 100%;overflow: auto;}#sk-df7f036a-3526-420f-8d42-70f5c376c957 input.sk-toggleable__control:checked~label.sk-toggleable__label-arrow:before {content: \"▾\";}#sk-df7f036a-3526-420f-8d42-70f5c376c957 div.sk-estimator input.sk-toggleable__control:checked~label.sk-toggleable__label {background-color: #d4ebff;}#sk-df7f036a-3526-420f-8d42-70f5c376c957 div.sk-label input.sk-toggleable__control:checked~label.sk-toggleable__label {background-color: #d4ebff;}#sk-df7f036a-3526-420f-8d42-70f5c376c957 input.sk-hidden--visually {border: 0;clip: rect(1px 1px 1px 1px);clip: rect(1px, 1px, 1px, 1px);height: 1px;margin: -1px;overflow: hidden;padding: 0;position: absolute;width: 1px;}#sk-df7f036a-3526-420f-8d42-70f5c376c957 div.sk-estimator {font-family: monospace;background-color: #f0f8ff;border: 1px dotted black;border-radius: 0.25em;box-sizing: border-box;margin-bottom: 0.5em;}#sk-df7f036a-3526-420f-8d42-70f5c376c957 div.sk-estimator:hover {background-color: #d4ebff;}#sk-df7f036a-3526-420f-8d42-70f5c376c957 div.sk-parallel-item::after {content: \"\";width: 100%;border-bottom: 1px solid gray;flex-grow: 1;}#sk-df7f036a-3526-420f-8d42-70f5c376c957 div.sk-label:hover label.sk-toggleable__label {background-color: #d4ebff;}#sk-df7f036a-3526-420f-8d42-70f5c376c957 div.sk-serial::before {content: \"\";position: absolute;border-left: 1px solid gray;box-sizing: border-box;top: 2em;bottom: 0;left: 50%;}#sk-df7f036a-3526-420f-8d42-70f5c376c957 div.sk-serial {display: flex;flex-direction: column;align-items: center;background-color: white;padding-right: 0.2em;padding-left: 0.2em;}#sk-df7f036a-3526-420f-8d42-70f5c376c957 div.sk-item {z-index: 1;}#sk-df7f036a-3526-420f-8d42-70f5c376c957 div.sk-parallel {display: flex;align-items: stretch;justify-content: center;background-color: white;}#sk-df7f036a-3526-420f-8d42-70f5c376c957 div.sk-parallel::before {content: \"\";position: absolute;border-left: 1px solid gray;box-sizing: border-box;top: 2em;bottom: 0;left: 50%;}#sk-df7f036a-3526-420f-8d42-70f5c376c957 div.sk-parallel-item {display: flex;flex-direction: column;position: relative;background-color: white;}#sk-df7f036a-3526-420f-8d42-70f5c376c957 div.sk-parallel-item:first-child::after {align-self: flex-end;width: 50%;}#sk-df7f036a-3526-420f-8d42-70f5c376c957 div.sk-parallel-item:last-child::after {align-self: flex-start;width: 50%;}#sk-df7f036a-3526-420f-8d42-70f5c376c957 div.sk-parallel-item:only-child::after {width: 0;}#sk-df7f036a-3526-420f-8d42-70f5c376c957 div.sk-dashed-wrapped {border: 1px dashed gray;margin: 0 0.4em 0.5em 0.4em;box-sizing: border-box;padding-bottom: 0.4em;background-color: white;position: relative;}#sk-df7f036a-3526-420f-8d42-70f5c376c957 div.sk-label label {font-family: monospace;font-weight: bold;background-color: white;display: inline-block;line-height: 1.2em;}#sk-df7f036a-3526-420f-8d42-70f5c376c957 div.sk-label-container {position: relative;z-index: 2;text-align: center;}#sk-df7f036a-3526-420f-8d42-70f5c376c957 div.sk-container {/* jupyter's `normalize.less` sets `[hidden] { display: none; }` but bootstrap.min.css set `[hidden] { display: none !important; }` so we also need the `!important` here to be able to override the default hidden behavior on the sphinx rendered scikit-learn.org. See: https://github.com/scikit-learn/scikit-learn/issues/21755 */display: inline-block !important;position: relative;}#sk-df7f036a-3526-420f-8d42-70f5c376c957 div.sk-text-repr-fallback {display: none;}</style><div id=\"sk-df7f036a-3526-420f-8d42-70f5c376c957\" class=\"sk-top-container\"><div class=\"sk-text-repr-fallback\"><pre>VotingClassifier(estimators=[(&#x27;rf&#x27;,\n",
              "                              Pipeline(steps=[(&#x27;columntransformer&#x27;,\n",
              "                                               ColumnTransformer(remainder=&#x27;passthrough&#x27;,\n",
              "                                                                 transformers=[(&#x27;categorical&#x27;,\n",
              "                                                                                OrdinalEncoder(handle_unknown=&#x27;use_encoded_value&#x27;,\n",
              "                                                                                               unknown_value=-1),\n",
              "                                                                                [&#x27;gender&#x27;,\n",
              "                                                                                 &#x27;SeniorCitizen&#x27;,\n",
              "                                                                                 &#x27;Partner&#x27;,\n",
              "                                                                                 &#x27;Dependents&#x27;,\n",
              "                                                                                 &#x27;PhoneService&#x27;,\n",
              "                                                                                 &#x27;MultipleLines&#x27;,\n",
              "                                                                                 &#x27;InternetService&#x27;,\n",
              "                                                                                 &#x27;OnlineSecurity&#x27;,\n",
              "                                                                                 &#x27;OnlineBackup&#x27;,\n",
              "                                                                                 &#x27;DevicePr...\n",
              "                                                                                OrdinalEncoder(handle_unknown=&#x27;use_encoded_value&#x27;,\n",
              "                                                                                               unknown_value=-1),\n",
              "                                                                                [&#x27;gender&#x27;,\n",
              "                                                                                 &#x27;SeniorCitizen&#x27;,\n",
              "                                                                                 &#x27;Partner&#x27;,\n",
              "                                                                                 &#x27;Dependents&#x27;,\n",
              "                                                                                 &#x27;PhoneService&#x27;,\n",
              "                                                                                 &#x27;MultipleLines&#x27;,\n",
              "                                                                                 &#x27;InternetService&#x27;,\n",
              "                                                                                 &#x27;OnlineSecurity&#x27;,\n",
              "                                                                                 &#x27;OnlineBackup&#x27;,\n",
              "                                                                                 &#x27;DeviceProtection&#x27;,\n",
              "                                                                                 &#x27;TechSupport&#x27;,\n",
              "                                                                                 &#x27;StreamingTV&#x27;,\n",
              "                                                                                 &#x27;StreamingMovies&#x27;,\n",
              "                                                                                 &#x27;Contract&#x27;,\n",
              "                                                                                 &#x27;PaperlessBilling&#x27;,\n",
              "                                                                                 &#x27;PaymentMethod&#x27;])])),\n",
              "                                              (&#x27;gaussiannb&#x27;,\n",
              "                                               GaussianNB(var_smoothing=0.01))]))])</pre><b>Please rerun this cell to show the HTML repr or trust the notebook.</b></div><div class=\"sk-container\" hidden><div class=\"sk-item sk-dashed-wrapped\"><div class=\"sk-label-container\"><div class=\"sk-label sk-toggleable\"><input class=\"sk-toggleable__control sk-hidden--visually\" id=\"0dc3779d-a422-437b-9b88-d6fd8061295e\" type=\"checkbox\" ><label for=\"0dc3779d-a422-437b-9b88-d6fd8061295e\" class=\"sk-toggleable__label sk-toggleable__label-arrow\">VotingClassifier</label><div class=\"sk-toggleable__content\"><pre>VotingClassifier(estimators=[(&#x27;rf&#x27;,\n",
              "                              Pipeline(steps=[(&#x27;columntransformer&#x27;,\n",
              "                                               ColumnTransformer(remainder=&#x27;passthrough&#x27;,\n",
              "                                                                 transformers=[(&#x27;categorical&#x27;,\n",
              "                                                                                OrdinalEncoder(handle_unknown=&#x27;use_encoded_value&#x27;,\n",
              "                                                                                               unknown_value=-1),\n",
              "                                                                                [&#x27;gender&#x27;,\n",
              "                                                                                 &#x27;SeniorCitizen&#x27;,\n",
              "                                                                                 &#x27;Partner&#x27;,\n",
              "                                                                                 &#x27;Dependents&#x27;,\n",
              "                                                                                 &#x27;PhoneService&#x27;,\n",
              "                                                                                 &#x27;MultipleLines&#x27;,\n",
              "                                                                                 &#x27;InternetService&#x27;,\n",
              "                                                                                 &#x27;OnlineSecurity&#x27;,\n",
              "                                                                                 &#x27;OnlineBackup&#x27;,\n",
              "                                                                                 &#x27;DevicePr...\n",
              "                                                                                OrdinalEncoder(handle_unknown=&#x27;use_encoded_value&#x27;,\n",
              "                                                                                               unknown_value=-1),\n",
              "                                                                                [&#x27;gender&#x27;,\n",
              "                                                                                 &#x27;SeniorCitizen&#x27;,\n",
              "                                                                                 &#x27;Partner&#x27;,\n",
              "                                                                                 &#x27;Dependents&#x27;,\n",
              "                                                                                 &#x27;PhoneService&#x27;,\n",
              "                                                                                 &#x27;MultipleLines&#x27;,\n",
              "                                                                                 &#x27;InternetService&#x27;,\n",
              "                                                                                 &#x27;OnlineSecurity&#x27;,\n",
              "                                                                                 &#x27;OnlineBackup&#x27;,\n",
              "                                                                                 &#x27;DeviceProtection&#x27;,\n",
              "                                                                                 &#x27;TechSupport&#x27;,\n",
              "                                                                                 &#x27;StreamingTV&#x27;,\n",
              "                                                                                 &#x27;StreamingMovies&#x27;,\n",
              "                                                                                 &#x27;Contract&#x27;,\n",
              "                                                                                 &#x27;PaperlessBilling&#x27;,\n",
              "                                                                                 &#x27;PaymentMethod&#x27;])])),\n",
              "                                              (&#x27;gaussiannb&#x27;,\n",
              "                                               GaussianNB(var_smoothing=0.01))]))])</pre></div></div></div><div class=\"sk-parallel\"><div class=\"sk-parallel-item\"><div class=\"sk-item\"><div class=\"sk-label-container\"><div class=\"sk-label sk-toggleable\"><label>rf</label></div></div><div class=\"sk-serial\"><div class=\"sk-item\"><div class=\"sk-serial\"><div class=\"sk-item sk-dashed-wrapped\"><div class=\"sk-label-container\"><div class=\"sk-label sk-toggleable\"><input class=\"sk-toggleable__control sk-hidden--visually\" id=\"1785097a-01b1-44ff-8ce0-d1ebd4021923\" type=\"checkbox\" ><label for=\"1785097a-01b1-44ff-8ce0-d1ebd4021923\" class=\"sk-toggleable__label sk-toggleable__label-arrow\">columntransformer: ColumnTransformer</label><div class=\"sk-toggleable__content\"><pre>ColumnTransformer(remainder=&#x27;passthrough&#x27;,\n",
              "                  transformers=[(&#x27;categorical&#x27;,\n",
              "                                 OrdinalEncoder(handle_unknown=&#x27;use_encoded_value&#x27;,\n",
              "                                                unknown_value=-1),\n",
              "                                 [&#x27;gender&#x27;, &#x27;SeniorCitizen&#x27;, &#x27;Partner&#x27;,\n",
              "                                  &#x27;Dependents&#x27;, &#x27;PhoneService&#x27;, &#x27;MultipleLines&#x27;,\n",
              "                                  &#x27;InternetService&#x27;, &#x27;OnlineSecurity&#x27;,\n",
              "                                  &#x27;OnlineBackup&#x27;, &#x27;DeviceProtection&#x27;,\n",
              "                                  &#x27;TechSupport&#x27;, &#x27;StreamingTV&#x27;,\n",
              "                                  &#x27;StreamingMovies&#x27;, &#x27;Contract&#x27;,\n",
              "                                  &#x27;PaperlessBilling&#x27;, &#x27;PaymentMethod&#x27;])])</pre></div></div></div><div class=\"sk-parallel\"><div class=\"sk-parallel-item\"><div class=\"sk-item\"><div class=\"sk-label-container\"><div class=\"sk-label sk-toggleable\"><input class=\"sk-toggleable__control sk-hidden--visually\" id=\"b5288ca6-55ad-4b35-a42a-2f1959b9b203\" type=\"checkbox\" ><label for=\"b5288ca6-55ad-4b35-a42a-2f1959b9b203\" class=\"sk-toggleable__label sk-toggleable__label-arrow\">categorical</label><div class=\"sk-toggleable__content\"><pre>[&#x27;gender&#x27;, &#x27;SeniorCitizen&#x27;, &#x27;Partner&#x27;, &#x27;Dependents&#x27;, &#x27;PhoneService&#x27;, &#x27;MultipleLines&#x27;, &#x27;InternetService&#x27;, &#x27;OnlineSecurity&#x27;, &#x27;OnlineBackup&#x27;, &#x27;DeviceProtection&#x27;, &#x27;TechSupport&#x27;, &#x27;StreamingTV&#x27;, &#x27;StreamingMovies&#x27;, &#x27;Contract&#x27;, &#x27;PaperlessBilling&#x27;, &#x27;PaymentMethod&#x27;]</pre></div></div></div><div class=\"sk-serial\"><div class=\"sk-item\"><div class=\"sk-estimator sk-toggleable\"><input class=\"sk-toggleable__control sk-hidden--visually\" id=\"33804284-3b4e-43ac-87ae-b598b0bc5b8d\" type=\"checkbox\" ><label for=\"33804284-3b4e-43ac-87ae-b598b0bc5b8d\" class=\"sk-toggleable__label sk-toggleable__label-arrow\">OrdinalEncoder</label><div class=\"sk-toggleable__content\"><pre>OrdinalEncoder(handle_unknown=&#x27;use_encoded_value&#x27;, unknown_value=-1)</pre></div></div></div></div></div></div><div class=\"sk-parallel-item\"><div class=\"sk-item\"><div class=\"sk-label-container\"><div class=\"sk-label sk-toggleable\"><input class=\"sk-toggleable__control sk-hidden--visually\" id=\"c8f37d5e-fe9e-498c-99e1-4c6aa9f0cd21\" type=\"checkbox\" ><label for=\"c8f37d5e-fe9e-498c-99e1-4c6aa9f0cd21\" class=\"sk-toggleable__label sk-toggleable__label-arrow\">remainder</label><div class=\"sk-toggleable__content\"><pre>[&#x27;tenure&#x27;, &#x27;ratio&#x27;]</pre></div></div></div><div class=\"sk-serial\"><div class=\"sk-item\"><div class=\"sk-estimator sk-toggleable\"><input class=\"sk-toggleable__control sk-hidden--visually\" id=\"b70edc91-1c9c-44fd-b8b4-2bbfd6986b0a\" type=\"checkbox\" ><label for=\"b70edc91-1c9c-44fd-b8b4-2bbfd6986b0a\" class=\"sk-toggleable__label sk-toggleable__label-arrow\">passthrough</label><div class=\"sk-toggleable__content\"><pre>passthrough</pre></div></div></div></div></div></div></div></div><div class=\"sk-item\"><div class=\"sk-estimator sk-toggleable\"><input class=\"sk-toggleable__control sk-hidden--visually\" id=\"301e3d52-d499-4ae0-9f7d-141f92e35e67\" type=\"checkbox\" ><label for=\"301e3d52-d499-4ae0-9f7d-141f92e35e67\" class=\"sk-toggleable__label sk-toggleable__label-arrow\">RandomForestClassifier</label><div class=\"sk-toggleable__content\"><pre>RandomForestClassifier(min_samples_leaf=5)</pre></div></div></div></div></div></div></div></div><div class=\"sk-parallel-item\"><div class=\"sk-item\"><div class=\"sk-label-container\"><div class=\"sk-label sk-toggleable\"><label>knn</label></div></div><div class=\"sk-serial\"><div class=\"sk-item\"><div class=\"sk-serial\"><div class=\"sk-item sk-dashed-wrapped\"><div class=\"sk-label-container\"><div class=\"sk-label sk-toggleable\"><input class=\"sk-toggleable__control sk-hidden--visually\" id=\"64ae998e-e5ab-4ac5-83b4-9a3b7371e5b2\" type=\"checkbox\" ><label for=\"64ae998e-e5ab-4ac5-83b4-9a3b7371e5b2\" class=\"sk-toggleable__label sk-toggleable__label-arrow\">columntransformer: ColumnTransformer</label><div class=\"sk-toggleable__content\"><pre>ColumnTransformer(remainder=&#x27;passthrough&#x27;,\n",
              "                  transformers=[(&#x27;categorical&#x27;,\n",
              "                                 OrdinalEncoder(handle_unknown=&#x27;use_encoded_value&#x27;,\n",
              "                                                unknown_value=-1),\n",
              "                                 [&#x27;gender&#x27;, &#x27;SeniorCitizen&#x27;, &#x27;Partner&#x27;,\n",
              "                                  &#x27;Dependents&#x27;, &#x27;PhoneService&#x27;, &#x27;MultipleLines&#x27;,\n",
              "                                  &#x27;InternetService&#x27;, &#x27;OnlineSecurity&#x27;,\n",
              "                                  &#x27;OnlineBackup&#x27;, &#x27;DeviceProtection&#x27;,\n",
              "                                  &#x27;TechSupport&#x27;, &#x27;StreamingTV&#x27;,\n",
              "                                  &#x27;StreamingMovies&#x27;, &#x27;Contract&#x27;,\n",
              "                                  &#x27;PaperlessBilling&#x27;, &#x27;PaymentMethod&#x27;])])</pre></div></div></div><div class=\"sk-parallel\"><div class=\"sk-parallel-item\"><div class=\"sk-item\"><div class=\"sk-label-container\"><div class=\"sk-label sk-toggleable\"><input class=\"sk-toggleable__control sk-hidden--visually\" id=\"7850c6f5-037a-4499-b76b-ccb3f9b7300a\" type=\"checkbox\" ><label for=\"7850c6f5-037a-4499-b76b-ccb3f9b7300a\" class=\"sk-toggleable__label sk-toggleable__label-arrow\">categorical</label><div class=\"sk-toggleable__content\"><pre>[&#x27;gender&#x27;, &#x27;SeniorCitizen&#x27;, &#x27;Partner&#x27;, &#x27;Dependents&#x27;, &#x27;PhoneService&#x27;, &#x27;MultipleLines&#x27;, &#x27;InternetService&#x27;, &#x27;OnlineSecurity&#x27;, &#x27;OnlineBackup&#x27;, &#x27;DeviceProtection&#x27;, &#x27;TechSupport&#x27;, &#x27;StreamingTV&#x27;, &#x27;StreamingMovies&#x27;, &#x27;Contract&#x27;, &#x27;PaperlessBilling&#x27;, &#x27;PaymentMethod&#x27;]</pre></div></div></div><div class=\"sk-serial\"><div class=\"sk-item\"><div class=\"sk-estimator sk-toggleable\"><input class=\"sk-toggleable__control sk-hidden--visually\" id=\"cb1a2ae7-c7ca-4e54-bb42-1feb8d9cb351\" type=\"checkbox\" ><label for=\"cb1a2ae7-c7ca-4e54-bb42-1feb8d9cb351\" class=\"sk-toggleable__label sk-toggleable__label-arrow\">OrdinalEncoder</label><div class=\"sk-toggleable__content\"><pre>OrdinalEncoder(handle_unknown=&#x27;use_encoded_value&#x27;, unknown_value=-1)</pre></div></div></div></div></div></div><div class=\"sk-parallel-item\"><div class=\"sk-item\"><div class=\"sk-label-container\"><div class=\"sk-label sk-toggleable\"><input class=\"sk-toggleable__control sk-hidden--visually\" id=\"7c7a5656-e5e1-483f-a4bb-28bb2f05df60\" type=\"checkbox\" ><label for=\"7c7a5656-e5e1-483f-a4bb-28bb2f05df60\" class=\"sk-toggleable__label sk-toggleable__label-arrow\">remainder</label><div class=\"sk-toggleable__content\"><pre>[&#x27;tenure&#x27;, &#x27;ratio&#x27;]</pre></div></div></div><div class=\"sk-serial\"><div class=\"sk-item\"><div class=\"sk-estimator sk-toggleable\"><input class=\"sk-toggleable__control sk-hidden--visually\" id=\"d6af1acc-5ff8-4eb4-bd8f-ac0561fd75e3\" type=\"checkbox\" ><label for=\"d6af1acc-5ff8-4eb4-bd8f-ac0561fd75e3\" class=\"sk-toggleable__label sk-toggleable__label-arrow\">passthrough</label><div class=\"sk-toggleable__content\"><pre>passthrough</pre></div></div></div></div></div></div></div></div><div class=\"sk-item\"><div class=\"sk-estimator sk-toggleable\"><input class=\"sk-toggleable__control sk-hidden--visually\" id=\"71e28ab2-0155-46ad-a462-ce855122ac47\" type=\"checkbox\" ><label for=\"71e28ab2-0155-46ad-a462-ce855122ac47\" class=\"sk-toggleable__label sk-toggleable__label-arrow\">KNeighborsClassifier</label><div class=\"sk-toggleable__content\"><pre>KNeighborsClassifier(n_neighbors=12)</pre></div></div></div></div></div></div></div></div><div class=\"sk-parallel-item\"><div class=\"sk-item\"><div class=\"sk-label-container\"><div class=\"sk-label sk-toggleable\"><label>logis</label></div></div><div class=\"sk-serial\"><div class=\"sk-item\"><div class=\"sk-serial\"><div class=\"sk-item sk-dashed-wrapped\"><div class=\"sk-label-container\"><div class=\"sk-label sk-toggleable\"><input class=\"sk-toggleable__control sk-hidden--visually\" id=\"b24eba78-71cc-4bc0-8b2a-f47c54fa247a\" type=\"checkbox\" ><label for=\"b24eba78-71cc-4bc0-8b2a-f47c54fa247a\" class=\"sk-toggleable__label sk-toggleable__label-arrow\">columntransformer: ColumnTransformer</label><div class=\"sk-toggleable__content\"><pre>ColumnTransformer(remainder=&#x27;passthrough&#x27;,\n",
              "                  transformers=[(&#x27;categorical&#x27;,\n",
              "                                 OrdinalEncoder(handle_unknown=&#x27;use_encoded_value&#x27;,\n",
              "                                                unknown_value=-1),\n",
              "                                 [&#x27;gender&#x27;, &#x27;SeniorCitizen&#x27;, &#x27;Partner&#x27;,\n",
              "                                  &#x27;Dependents&#x27;, &#x27;PhoneService&#x27;, &#x27;MultipleLines&#x27;,\n",
              "                                  &#x27;InternetService&#x27;, &#x27;OnlineSecurity&#x27;,\n",
              "                                  &#x27;OnlineBackup&#x27;, &#x27;DeviceProtection&#x27;,\n",
              "                                  &#x27;TechSupport&#x27;, &#x27;StreamingTV&#x27;,\n",
              "                                  &#x27;StreamingMovies&#x27;, &#x27;Contract&#x27;,\n",
              "                                  &#x27;PaperlessBilling&#x27;, &#x27;PaymentMethod&#x27;])])</pre></div></div></div><div class=\"sk-parallel\"><div class=\"sk-parallel-item\"><div class=\"sk-item\"><div class=\"sk-label-container\"><div class=\"sk-label sk-toggleable\"><input class=\"sk-toggleable__control sk-hidden--visually\" id=\"bb984147-43df-4ca2-a164-06931dd64654\" type=\"checkbox\" ><label for=\"bb984147-43df-4ca2-a164-06931dd64654\" class=\"sk-toggleable__label sk-toggleable__label-arrow\">categorical</label><div class=\"sk-toggleable__content\"><pre>[&#x27;gender&#x27;, &#x27;SeniorCitizen&#x27;, &#x27;Partner&#x27;, &#x27;Dependents&#x27;, &#x27;PhoneService&#x27;, &#x27;MultipleLines&#x27;, &#x27;InternetService&#x27;, &#x27;OnlineSecurity&#x27;, &#x27;OnlineBackup&#x27;, &#x27;DeviceProtection&#x27;, &#x27;TechSupport&#x27;, &#x27;StreamingTV&#x27;, &#x27;StreamingMovies&#x27;, &#x27;Contract&#x27;, &#x27;PaperlessBilling&#x27;, &#x27;PaymentMethod&#x27;]</pre></div></div></div><div class=\"sk-serial\"><div class=\"sk-item\"><div class=\"sk-estimator sk-toggleable\"><input class=\"sk-toggleable__control sk-hidden--visually\" id=\"2d16b015-da15-4a66-b8d6-2b8f5ce0c4d9\" type=\"checkbox\" ><label for=\"2d16b015-da15-4a66-b8d6-2b8f5ce0c4d9\" class=\"sk-toggleable__label sk-toggleable__label-arrow\">OrdinalEncoder</label><div class=\"sk-toggleable__content\"><pre>OrdinalEncoder(handle_unknown=&#x27;use_encoded_value&#x27;, unknown_value=-1)</pre></div></div></div></div></div></div><div class=\"sk-parallel-item\"><div class=\"sk-item\"><div class=\"sk-label-container\"><div class=\"sk-label sk-toggleable\"><input class=\"sk-toggleable__control sk-hidden--visually\" id=\"66de5376-f543-46ec-8bd3-ac201ab69595\" type=\"checkbox\" ><label for=\"66de5376-f543-46ec-8bd3-ac201ab69595\" class=\"sk-toggleable__label sk-toggleable__label-arrow\">remainder</label><div class=\"sk-toggleable__content\"><pre>[&#x27;tenure&#x27;, &#x27;ratio&#x27;]</pre></div></div></div><div class=\"sk-serial\"><div class=\"sk-item\"><div class=\"sk-estimator sk-toggleable\"><input class=\"sk-toggleable__control sk-hidden--visually\" id=\"cfcc6885-a0ad-441e-b89e-b4f84267b462\" type=\"checkbox\" ><label for=\"cfcc6885-a0ad-441e-b89e-b4f84267b462\" class=\"sk-toggleable__label sk-toggleable__label-arrow\">passthrough</label><div class=\"sk-toggleable__content\"><pre>passthrough</pre></div></div></div></div></div></div></div></div><div class=\"sk-item\"><div class=\"sk-estimator sk-toggleable\"><input class=\"sk-toggleable__control sk-hidden--visually\" id=\"2e5959f9-7ba6-4161-a624-85f19c9b3c30\" type=\"checkbox\" ><label for=\"2e5959f9-7ba6-4161-a624-85f19c9b3c30\" class=\"sk-toggleable__label sk-toggleable__label-arrow\">LogisticRegression</label><div class=\"sk-toggleable__content\"><pre>LogisticRegression(max_iter=400)</pre></div></div></div></div></div></div></div></div><div class=\"sk-parallel-item\"><div class=\"sk-item\"><div class=\"sk-label-container\"><div class=\"sk-label sk-toggleable\"><label>nb</label></div></div><div class=\"sk-serial\"><div class=\"sk-item\"><div class=\"sk-serial\"><div class=\"sk-item sk-dashed-wrapped\"><div class=\"sk-label-container\"><div class=\"sk-label sk-toggleable\"><input class=\"sk-toggleable__control sk-hidden--visually\" id=\"9f22fa23-4b63-40d1-b4e3-59dc086537db\" type=\"checkbox\" ><label for=\"9f22fa23-4b63-40d1-b4e3-59dc086537db\" class=\"sk-toggleable__label sk-toggleable__label-arrow\">columntransformer: ColumnTransformer</label><div class=\"sk-toggleable__content\"><pre>ColumnTransformer(remainder=&#x27;passthrough&#x27;,\n",
              "                  transformers=[(&#x27;categorical&#x27;,\n",
              "                                 OrdinalEncoder(handle_unknown=&#x27;use_encoded_value&#x27;,\n",
              "                                                unknown_value=-1),\n",
              "                                 [&#x27;gender&#x27;, &#x27;SeniorCitizen&#x27;, &#x27;Partner&#x27;,\n",
              "                                  &#x27;Dependents&#x27;, &#x27;PhoneService&#x27;, &#x27;MultipleLines&#x27;,\n",
              "                                  &#x27;InternetService&#x27;, &#x27;OnlineSecurity&#x27;,\n",
              "                                  &#x27;OnlineBackup&#x27;, &#x27;DeviceProtection&#x27;,\n",
              "                                  &#x27;TechSupport&#x27;, &#x27;StreamingTV&#x27;,\n",
              "                                  &#x27;StreamingMovies&#x27;, &#x27;Contract&#x27;,\n",
              "                                  &#x27;PaperlessBilling&#x27;, &#x27;PaymentMethod&#x27;])])</pre></div></div></div><div class=\"sk-parallel\"><div class=\"sk-parallel-item\"><div class=\"sk-item\"><div class=\"sk-label-container\"><div class=\"sk-label sk-toggleable\"><input class=\"sk-toggleable__control sk-hidden--visually\" id=\"2f00e5d5-b816-431b-89d2-27966228b5a0\" type=\"checkbox\" ><label for=\"2f00e5d5-b816-431b-89d2-27966228b5a0\" class=\"sk-toggleable__label sk-toggleable__label-arrow\">categorical</label><div class=\"sk-toggleable__content\"><pre>[&#x27;gender&#x27;, &#x27;SeniorCitizen&#x27;, &#x27;Partner&#x27;, &#x27;Dependents&#x27;, &#x27;PhoneService&#x27;, &#x27;MultipleLines&#x27;, &#x27;InternetService&#x27;, &#x27;OnlineSecurity&#x27;, &#x27;OnlineBackup&#x27;, &#x27;DeviceProtection&#x27;, &#x27;TechSupport&#x27;, &#x27;StreamingTV&#x27;, &#x27;StreamingMovies&#x27;, &#x27;Contract&#x27;, &#x27;PaperlessBilling&#x27;, &#x27;PaymentMethod&#x27;]</pre></div></div></div><div class=\"sk-serial\"><div class=\"sk-item\"><div class=\"sk-estimator sk-toggleable\"><input class=\"sk-toggleable__control sk-hidden--visually\" id=\"d7b3945b-0fad-437f-9654-8cfac9f6235c\" type=\"checkbox\" ><label for=\"d7b3945b-0fad-437f-9654-8cfac9f6235c\" class=\"sk-toggleable__label sk-toggleable__label-arrow\">OrdinalEncoder</label><div class=\"sk-toggleable__content\"><pre>OrdinalEncoder(handle_unknown=&#x27;use_encoded_value&#x27;, unknown_value=-1)</pre></div></div></div></div></div></div><div class=\"sk-parallel-item\"><div class=\"sk-item\"><div class=\"sk-label-container\"><div class=\"sk-label sk-toggleable\"><input class=\"sk-toggleable__control sk-hidden--visually\" id=\"550ec279-0a4f-4161-ab15-3c5c00d1b4cc\" type=\"checkbox\" ><label for=\"550ec279-0a4f-4161-ab15-3c5c00d1b4cc\" class=\"sk-toggleable__label sk-toggleable__label-arrow\">remainder</label><div class=\"sk-toggleable__content\"><pre>[&#x27;tenure&#x27;, &#x27;ratio&#x27;]</pre></div></div></div><div class=\"sk-serial\"><div class=\"sk-item\"><div class=\"sk-estimator sk-toggleable\"><input class=\"sk-toggleable__control sk-hidden--visually\" id=\"ffd8dac8-cec3-4460-b091-1ce9ff3db62b\" type=\"checkbox\" ><label for=\"ffd8dac8-cec3-4460-b091-1ce9ff3db62b\" class=\"sk-toggleable__label sk-toggleable__label-arrow\">passthrough</label><div class=\"sk-toggleable__content\"><pre>passthrough</pre></div></div></div></div></div></div></div></div><div class=\"sk-item\"><div class=\"sk-estimator sk-toggleable\"><input class=\"sk-toggleable__control sk-hidden--visually\" id=\"d7e05bba-e1eb-4d7a-b79c-b467b84235b7\" type=\"checkbox\" ><label for=\"d7e05bba-e1eb-4d7a-b79c-b467b84235b7\" class=\"sk-toggleable__label sk-toggleable__label-arrow\">GaussianNB</label><div class=\"sk-toggleable__content\"><pre>GaussianNB(var_smoothing=0.01)</pre></div></div></div></div></div></div></div></div></div></div></div></div>"
            ]
          },
          "metadata": {},
          "execution_count": 72
        }
      ]
    },
    {
      "cell_type": "code",
      "source": [
        "#vot_model.estimators_"
      ],
      "metadata": {
        "id": "zlrVbwH0mNQo"
      },
      "execution_count": null,
      "outputs": []
    },
    {
      "cell_type": "code",
      "source": [
        "#vot_model.get_params"
      ],
      "metadata": {
        "id": "6s5_tT_PmTUa"
      },
      "execution_count": null,
      "outputs": []
    },
    {
      "cell_type": "code",
      "source": [
        "vot_model.predict(X_test)"
      ],
      "metadata": {
        "colab": {
          "base_uri": "https://localhost:8080/"
        },
        "id": "4GeSNjC2mX5G",
        "outputId": "2ccb1b52-c388-421b-add8-2da2e9fa3981"
      },
      "execution_count": null,
      "outputs": [
        {
          "output_type": "execute_result",
          "data": {
            "text/plain": [
              "array(['No', 'Yes', 'No', ..., 'No', 'No', 'No'], dtype=object)"
            ]
          },
          "metadata": {},
          "execution_count": 75
        }
      ]
    },
    {
      "cell_type": "code",
      "source": [
        "vot_model.score(X_test, Y_test)"
      ],
      "metadata": {
        "colab": {
          "base_uri": "https://localhost:8080/"
        },
        "id": "HTqY1t_PmbAp",
        "outputId": "4ee24272-3cbf-4996-948f-7753bb54b132"
      },
      "execution_count": null,
      "outputs": [
        {
          "output_type": "execute_result",
          "data": {
            "text/plain": [
              "0.7913413768630234"
            ]
          },
          "metadata": {},
          "execution_count": 76
        }
      ]
    },
    {
      "cell_type": "code",
      "source": [
        "vot_model.score(X_train, Y_train)"
      ],
      "metadata": {
        "colab": {
          "base_uri": "https://localhost:8080/"
        },
        "id": "TTPc100UvwZk",
        "outputId": "2be5ffe8-ce5b-4f72-8e41-228a77feec15"
      },
      "execution_count": null,
      "outputs": [
        {
          "output_type": "execute_result",
          "data": {
            "text/plain": [
              "0.8162939297124601"
            ]
          },
          "metadata": {},
          "execution_count": 79
        }
      ]
    },
    {
      "cell_type": "code",
      "source": [
        "import pickle\n",
        "pickle.dump(vot_model, open('MDIALLO.sav','wb'))"
      ],
      "metadata": {
        "id": "prih0_EXmer7"
      },
      "execution_count": null,
      "outputs": []
    },
    {
      "cell_type": "code",
      "source": [
        "loaded_model = pickle.load(open(\"MDIALLO.sav\", 'rb'))\n",
        "result = loaded_model.score(X_test, Y_test)\n",
        "print(result)"
      ],
      "metadata": {
        "colab": {
          "base_uri": "https://localhost:8080/"
        },
        "id": "o13IDwCk2t7L",
        "outputId": "d5da9654-5dfe-4a21-a7d7-bfd44b7e6b43"
      },
      "execution_count": null,
      "outputs": [
        {
          "output_type": "stream",
          "name": "stdout",
          "text": [
            "0.7913413768630234\n"
          ]
        }
      ]
    }
  ]
}